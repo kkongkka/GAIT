{
 "cells": [
  {
   "cell_type": "code",
   "execution_count": 1,
   "metadata": {},
   "outputs": [
    {
     "name": "stderr",
     "output_type": "stream",
     "text": [
      "2024-04-05 21:02:54.416 WARNING streamlit.runtime.caching.cache_data_api: No runtime found, using MemoryCacheStorageManager\n",
      "2024-04-05 21:02:54.469 \n",
      "  \u001b[33m\u001b[1mWarning:\u001b[0m to view this Streamlit app on a browser, run it with the following\n",
      "  command:\n",
      "\n",
      "    streamlit run /opt/anaconda3/lib/python3.11/site-packages/ipykernel_launcher.py [ARGUMENTS]\n",
      "2024-04-05 21:02:54.469 No runtime found, using MemoryCacheStorageManager\n"
     ]
    }
   ],
   "source": [
    "import pandas as pd\n",
    "import plotly.express as px\n",
    "import plotly.graph_objs as go\n",
    "import streamlit as st\n",
    "import numpy as np\n",
    "\n",
    "from glob import glob\n",
    "import data_concat\n",
    "\n",
    "st.set_page_config(layout=\"wide\")\n",
    "@st.cache_data\n",
    "def load_data():\n",
    "    fp1, fp2 = data_concat.data_concat()\n",
    "    return fp1, fp2\n",
    "\n",
    "fp1, fp2 = load_data()\n",
    "\n",
    "fp1['trial'] = fp1['trial'].astype(int)\n",
    "fp2['trial'] = fp2['trial'].astype(int)\n",
    "\n",
    "# 스트림릿 사이드바 설정\n",
    "unique_names = fp1['player'].unique()\n",
    "selected_name = st.sidebar.selectbox('Select Name', unique_names)\n",
    "filtered_df_by_name = fp1[fp1['player'] == selected_name]\n",
    "unique_dates = sorted(filtered_df_by_name['day'].unique())\n",
    "selected_date = st.sidebar.selectbox('Select Date', unique_dates)\n",
    "\n",
    "filtered_df_by_name_datas = fp1[(fp1['player'] == selected_name) &\n",
    "                                (fp1['day'] == selected_date)]\n",
    "unique_trial = sorted(filtered_df_by_name_datas['trial'].unique())\n",
    "selected_trial = st.sidebar.selectbox('Select Date', unique_trial)\n",
    "\n",
    "fp1_filtered = fp1[(fp1['player'] == selected_name) & \n",
    "                    (fp1['day'] == selected_date) &\n",
    "                    (fp1['trial'] == selected_trial)]\n",
    "\n",
    "fp2_filtered = fp2[(fp2['player'] == selected_name) & \n",
    "                    (fp2['day'] == selected_date) &\n",
    "                    (fp2['trial'] == selected_trial)]\n",
    "\n",
    "fp1_filtered.reset_index(inplace=True, drop=True)\n",
    "fp2_filtered.reset_index(inplace=True, drop=True)"
   ]
  },
  {
   "cell_type": "code",
   "execution_count": 2,
   "metadata": {},
   "outputs": [],
   "source": [
    "k_sr = 60; f_sr = 2160\n",
    "\n",
    "k_Heel_contact_1  = round(fp1_filtered['k_Heel_contact_1'][0])\n",
    "k_Toe_off_1       = round(fp1_filtered['k_Toe_off_1'][0])\n",
    "k_Heel_contact_2  = round(fp1_filtered['k_Heel_contact_2'][0])\n",
    "k_Toe_off_2       = round(fp1_filtered['k_Toe_off_2'][0])\n",
    "\n",
    "f_Heel_contact_1 = round(fp2_filtered['f_Heel_contact_1'][0])\n",
    "f_Toe_off_1      = round(fp2_filtered['f_Toe_off_1'][0])\n",
    "f_Heel_contact_2 = round(fp2_filtered['f_Heel_contact_2'][0])\n",
    "f_Toe_off_2      = round(fp2_filtered['f_Toe_off_2'][0])"
   ]
  },
  {
   "cell_type": "code",
   "execution_count": 3,
   "metadata": {},
   "outputs": [],
   "source": [
    "fp1_filtered.drop(['k_Heel_contact_1','k_Toe_off_1','k_Heel_contact_2','k_Toe_off_2','f_Heel_contact_1','f_Toe_off_1','f_Heel_contact_2','f_Toe_off_2'], axis=1, inplace=True)\n",
    "fp2_filtered.drop(['k_Heel_contact_1','k_Toe_off_1','k_Heel_contact_2','k_Toe_off_2','f_Heel_contact_1','f_Toe_off_1','f_Heel_contact_2','f_Toe_off_2'], axis=1, inplace=True)"
   ]
  },
  {
   "cell_type": "code",
   "execution_count": 4,
   "metadata": {},
   "outputs": [],
   "source": [
    "fp1_len = len(fp1_filtered)\n",
    "fp1_time = np.arange(0,fp1_len/k_sr, 1/k_sr)\n",
    "fp_1time = fp1_time.round(3)\n",
    "\n",
    "fp2_len = len(fp2_filtered)\n",
    "fp2_time = np.arange(0,fp2_len/k_sr, 1/k_sr)\n",
    "fp_2time = fp2_time.round(3)"
   ]
  },
  {
   "cell_type": "code",
   "execution_count": 5,
   "metadata": {},
   "outputs": [],
   "source": [
    "ang_cols = {\n",
    "    'PELVIS_ANGLE_X' : 'Pelvic_Anterior_Tilt',\n",
    "    '              ' : 'Pelvic_Up_(Obliquity)',\n",
    "    '              ' : 'Pelvic_Internal_Rotation',\n",
    "    \n",
    "    'RT_HIP_ANGLE_X' : 'Hip_Flexion',\n",
    "    'RT_HIP_ANGLE_Y' : 'Hip_Adduction',\n",
    "    'RT_HIP_ANGLE_Z' : 'Hip_Internal_Rotation',\n",
    "    \n",
    "    'RT_KNEE_ANGLE_X' : 'Knee_Flexion',\n",
    "    '               ' : 'Knee_Varus',\n",
    "    '               ' : 'Knee_Internal_Rotation',\n",
    "    \n",
    "    'RT_ANKLE_ANGLE_X' : 'Ankle_Dorsiflexion',\n",
    "    'RT_ANKLE_ANGLE_Y' : 'add',\n",
    "    'RT_ANKLE_ANGLE_Z' : 'Ankle_Inversion',\n",
    "    \n",
    "    #'RT_ANKLE_ANGLE_Y' : 'Ankle_Rotation',\n",
    "    }"
   ]
  },
  {
   "cell_type": "code",
   "execution_count": 24,
   "metadata": {},
   "outputs": [
    {
     "data": {
      "text/plain": [
       "26"
      ]
     },
     "execution_count": 24,
     "metadata": {},
     "output_type": "execute_result"
    }
   ],
   "source": [
    "round(fp1_filtered['FRAMES'][0])"
   ]
  },
  {
   "cell_type": "code",
   "execution_count": 28,
   "metadata": {},
   "outputs": [],
   "source": [
    "def one_angle_plotly(data, cols, time, k_Heel_contact_1, k_Toe_off_1, k_Heel_contact_2, k_Toe_off_2):\n",
    "    ang = {\n",
    "        'max'       : {},\n",
    "        'max_frame' : {},\n",
    "        'min'       : {},\n",
    "        'min_frame' : {},\n",
    "        'k_Heel_contact_1'   : {},\n",
    "        'k_Toe_off_1'        : {},\n",
    "        'k_Heel_contact_2'   : {},\n",
    "        'k_Toe_off_2'        : {},\n",
    "    }\n",
    "    \n",
    "    figures = {}\n",
    "    \n",
    "    for col in cols:\n",
    "        df = data[col]\n",
    "        if 'VELOCITY' in col:\n",
    "            y_label = 'Angular Velocity [deg/s]'\n",
    "        else:\n",
    "            y_label = 'Angle [deg]'\n",
    "        \n",
    "        # Create the trace for the main data line\n",
    "        trace = go.Scatter(x=time, y=df, mode='lines', name=cols[col], line=dict(color='firebrick'))\n",
    "        traces = [trace]\n",
    "        \n",
    "        ang['k_Heel_contact_1'][col] = round(df.iloc['FRAMES'][0], 2)\n",
    "        ang['k_Toe_off_1'][col]      = round(df.iloc['FRAMES'][100], 2)\n",
    "        ang['k_Heel_contact_2'][col] = round(df.iloc['FRAMES'][0], 2)\n",
    "        ang['k_Toe_off_2'][col]      = round(df.iloc['FRAMES'][100], 2)\n",
    "        \n",
    "        ang['max'][col]       = round(df.max(), 2)\n",
    "        ang['max_frame'][col] = np.where(df == df.max())[0][0]\n",
    "        ang['min'][col]       = round(df.min(), 2)\n",
    "        ang['min_frame'][col] = np.where(df == df.min())[0][0]\n",
    "        \n",
    "        '''\n",
    "        if col in ['TORSO_ANGLE_Y','LEAD_ELBOW_ANGLE_X','LEAD_SHOULDER_ANGLE_Y','LEAD_SHOULDER_ANGLE_Z','LEAD_KNEE_ANGULAR_VELOCITY_X']:\n",
    "            ang['max'][col]  = round(df[k_fc_time-40:k_br_time+15].max(), 2)\n",
    "            ang['max_frame'][col] = np.where(df == df[k_fc_time-40:k_br_time+15].max())[0][0]\n",
    "\n",
    "        elif col in ['LEAD_KNEE_ANGLE_X']:\n",
    "            ang['max'][col]  = round(df[k_fc_time:k_br_time+1].max(), 2)\n",
    "            ang['max_frame'][col] = np.where(df == df[k_fc_time:k_br_time+1].max())[0][0]\n",
    "        '''\n",
    "        \n",
    "        reference_lines =[]\n",
    "        annotations = []\n",
    "        \n",
    "        for key_time, description in zip([k_Heel_contact_1, k_Toe_off_1, k_Heel_contact_2, k_Toe_off_2],\n",
    "                                     ['HC1', 'TO1', 'HC2', 'TO2']):\n",
    "            \n",
    "            # 참조선\n",
    "            reference_lines.append(\n",
    "            go.Scatter(x=[time[key_time], time[key_time]], y=[df.min(), df.max()],\n",
    "                       mode='lines', line=dict(color='black', width=2, dash='dash'),\n",
    "                       showlegend=False)\n",
    "        )\n",
    "            # 주석\n",
    "            annotations.append(\n",
    "            dict(x=time[key_time + 2], y=0.95, xref='x', yref='paper', showarrow=False,\n",
    "                 text=description,textangle=-90, bgcolor='rgba(0,0,0,0)', bordercolor='rgba(0,0,0,0)', borderwidth=0,\n",
    "                 )\n",
    "        )\n",
    "        \n",
    "        # Define the layout\n",
    "        layout = go.Layout(\n",
    "            title=f'{cols[col]}',\n",
    "            xaxis=dict(title='Time [s]',\n",
    "                       showgrid=False),\n",
    "            yaxis=dict(title=y_label,\n",
    "                       autorange = True,\n",
    "                       rangemode='tozero',\n",
    "                        showgrid=True,         # This will show the horizontal gridlines\n",
    "                        gridcolor='lightgrey',\n",
    "                        gridwidth=1,\n",
    "                        zeroline=False,\n",
    "                        ),                        \n",
    "            showlegend=False,\n",
    "            margin=dict(l=40, r=40, t=40, b=40),\n",
    "            height=600,\n",
    "            plot_bgcolor='rgb(43,48,61)',\n",
    "            annotations=annotations\n",
    "        )\n",
    "        \n",
    "        # Create the figure and add the traces to it\n",
    "        fig = go.Figure(data=traces + reference_lines, layout=layout)\n",
    "        \n",
    "        # Store the figure in the dictionary\n",
    "        figures[col] = fig\n",
    "        \n",
    "    return ang, figures"
   ]
  },
  {
   "cell_type": "code",
   "execution_count": 29,
   "metadata": {},
   "outputs": [
    {
     "ename": "TypeError",
     "evalue": "Cannot index by location index with a non-integer key",
     "output_type": "error",
     "traceback": [
      "\u001b[0;31m---------------------------------------------------------------------------\u001b[0m",
      "\u001b[0;31mTypeError\u001b[0m                                 Traceback (most recent call last)",
      "Cell \u001b[0;32mIn[29], line 1\u001b[0m\n\u001b[0;32m----> 1\u001b[0m FP1_values, FP1_fig \u001b[38;5;241m=\u001b[39m one_angle_plotly(fp1_filtered, ang_cols, fp_1time, k_Heel_contact_1, k_Toe_off_1, k_Heel_contact_2, k_Toe_off_2)\n\u001b[1;32m      2\u001b[0m FP2_values, FP2_fig \u001b[38;5;241m=\u001b[39m one_angle_plotly(fp2_filtered, ang_cols, fp_2time, k_Heel_contact_1, k_Toe_off_1, f_Heel_contact_2, f_Toe_off_2)\n",
      "Cell \u001b[0;32mIn[28], line 26\u001b[0m, in \u001b[0;36mone_angle_plotly\u001b[0;34m(data, cols, time, k_Heel_contact_1, k_Toe_off_1, k_Heel_contact_2, k_Toe_off_2)\u001b[0m\n\u001b[1;32m     23\u001b[0m trace \u001b[38;5;241m=\u001b[39m go\u001b[38;5;241m.\u001b[39mScatter(x\u001b[38;5;241m=\u001b[39mtime, y\u001b[38;5;241m=\u001b[39mdf, mode\u001b[38;5;241m=\u001b[39m\u001b[38;5;124m'\u001b[39m\u001b[38;5;124mlines\u001b[39m\u001b[38;5;124m'\u001b[39m, name\u001b[38;5;241m=\u001b[39mcols[col], line\u001b[38;5;241m=\u001b[39m\u001b[38;5;28mdict\u001b[39m(color\u001b[38;5;241m=\u001b[39m\u001b[38;5;124m'\u001b[39m\u001b[38;5;124mfirebrick\u001b[39m\u001b[38;5;124m'\u001b[39m))\n\u001b[1;32m     24\u001b[0m traces \u001b[38;5;241m=\u001b[39m [trace]\n\u001b[0;32m---> 26\u001b[0m ang[\u001b[38;5;124m'\u001b[39m\u001b[38;5;124mk_Heel_contact_1\u001b[39m\u001b[38;5;124m'\u001b[39m][col] \u001b[38;5;241m=\u001b[39m \u001b[38;5;28mround\u001b[39m(df\u001b[38;5;241m.\u001b[39miloc[\u001b[38;5;124m'\u001b[39m\u001b[38;5;124mFRAMES\u001b[39m\u001b[38;5;124m'\u001b[39m][\u001b[38;5;241m0\u001b[39m], \u001b[38;5;241m2\u001b[39m)\n\u001b[1;32m     27\u001b[0m ang[\u001b[38;5;124m'\u001b[39m\u001b[38;5;124mk_Toe_off_1\u001b[39m\u001b[38;5;124m'\u001b[39m][col]      \u001b[38;5;241m=\u001b[39m \u001b[38;5;28mround\u001b[39m(df\u001b[38;5;241m.\u001b[39miloc[\u001b[38;5;124m'\u001b[39m\u001b[38;5;124mFRAMES\u001b[39m\u001b[38;5;124m'\u001b[39m][\u001b[38;5;241m100\u001b[39m], \u001b[38;5;241m2\u001b[39m)\n\u001b[1;32m     28\u001b[0m ang[\u001b[38;5;124m'\u001b[39m\u001b[38;5;124mk_Heel_contact_2\u001b[39m\u001b[38;5;124m'\u001b[39m][col] \u001b[38;5;241m=\u001b[39m \u001b[38;5;28mround\u001b[39m(df\u001b[38;5;241m.\u001b[39miloc[\u001b[38;5;124m'\u001b[39m\u001b[38;5;124mFRAMES\u001b[39m\u001b[38;5;124m'\u001b[39m][\u001b[38;5;241m0\u001b[39m], \u001b[38;5;241m2\u001b[39m)\n",
      "File \u001b[0;32m/opt/anaconda3/lib/python3.11/site-packages/pandas/core/indexing.py:1153\u001b[0m, in \u001b[0;36m_LocationIndexer.__getitem__\u001b[0;34m(self, key)\u001b[0m\n\u001b[1;32m   1150\u001b[0m axis \u001b[38;5;241m=\u001b[39m \u001b[38;5;28mself\u001b[39m\u001b[38;5;241m.\u001b[39maxis \u001b[38;5;129;01mor\u001b[39;00m \u001b[38;5;241m0\u001b[39m\n\u001b[1;32m   1152\u001b[0m maybe_callable \u001b[38;5;241m=\u001b[39m com\u001b[38;5;241m.\u001b[39mapply_if_callable(key, \u001b[38;5;28mself\u001b[39m\u001b[38;5;241m.\u001b[39mobj)\n\u001b[0;32m-> 1153\u001b[0m \u001b[38;5;28;01mreturn\u001b[39;00m \u001b[38;5;28mself\u001b[39m\u001b[38;5;241m.\u001b[39m_getitem_axis(maybe_callable, axis\u001b[38;5;241m=\u001b[39maxis)\n",
      "File \u001b[0;32m/opt/anaconda3/lib/python3.11/site-packages/pandas/core/indexing.py:1711\u001b[0m, in \u001b[0;36m_iLocIndexer._getitem_axis\u001b[0;34m(self, key, axis)\u001b[0m\n\u001b[1;32m   1709\u001b[0m key \u001b[38;5;241m=\u001b[39m item_from_zerodim(key)\n\u001b[1;32m   1710\u001b[0m \u001b[38;5;28;01mif\u001b[39;00m \u001b[38;5;129;01mnot\u001b[39;00m is_integer(key):\n\u001b[0;32m-> 1711\u001b[0m     \u001b[38;5;28;01mraise\u001b[39;00m \u001b[38;5;167;01mTypeError\u001b[39;00m(\u001b[38;5;124m\"\u001b[39m\u001b[38;5;124mCannot index by location index with a non-integer key\u001b[39m\u001b[38;5;124m\"\u001b[39m)\n\u001b[1;32m   1713\u001b[0m \u001b[38;5;66;03m# validate the location\u001b[39;00m\n\u001b[1;32m   1714\u001b[0m \u001b[38;5;28mself\u001b[39m\u001b[38;5;241m.\u001b[39m_validate_integer(key, axis)\n",
      "\u001b[0;31mTypeError\u001b[0m: Cannot index by location index with a non-integer key"
     ]
    }
   ],
   "source": [
    "FP1_values, FP1_fig = one_angle_plotly(fp1_filtered, ang_cols, fp_1time, k_Heel_contact_1, k_Toe_off_1, k_Heel_contact_2, k_Toe_off_2)\n",
    "FP2_values, FP2_fig = one_angle_plotly(fp2_filtered, ang_cols, fp_2time, k_Heel_contact_1, k_Toe_off_1, f_Heel_contact_2, f_Toe_off_2)"
   ]
  },
  {
   "cell_type": "code",
   "execution_count": 32,
   "metadata": {},
   "outputs": [
    {
     "data": {
      "text/plain": [
       "61.00000000000002"
      ]
     },
     "execution_count": 32,
     "metadata": {},
     "output_type": "execute_result"
    }
   ],
   "source": [
    "fp2_filtered['FRAMES'][0]"
   ]
  },
  {
   "cell_type": "code",
   "execution_count": null,
   "metadata": {},
   "outputs": [
    {
     "data": {
      "text/plain": [
       "99"
      ]
     },
     "execution_count": 24,
     "metadata": {},
     "output_type": "execute_result"
    }
   ],
   "source": [
    "round(fp2_filtered['FRAMES'][100])"
   ]
  },
  {
   "cell_type": "code",
   "execution_count": null,
   "metadata": {},
   "outputs": [
    {
     "data": {
      "text/plain": [
       "0      61.00\n",
       "1      61.38\n",
       "2      61.76\n",
       "3      62.14\n",
       "4      62.52\n",
       "       ...  \n",
       "96     97.48\n",
       "97     97.86\n",
       "98     98.24\n",
       "99     98.62\n",
       "100    99.00\n",
       "Name: FRAMES, Length: 101, dtype: float64"
      ]
     },
     "execution_count": 29,
     "metadata": {},
     "output_type": "execute_result"
    }
   ],
   "source": [
    "fp2_filtered.iloc[:, fp2_filtered.columns.get_loc('FRAMES')]"
   ]
  },
  {
   "cell_type": "code",
   "execution_count": 15,
   "metadata": {},
   "outputs": [],
   "source": [
    "def one_angle_plotly(data, cols, time, k_Heel_contact_1, k_Toe_off_1, k_Heel_contact_2, k_Toe_off_2):\n",
    "    ang = {\n",
    "        'max'       : {},\n",
    "        'max_frame' : {},\n",
    "        'min'       : {},\n",
    "        'min_frame' : {},\n",
    "        'k_Heel_contact_1'   : {},\n",
    "        'k_Toe_off_1'        : {},\n",
    "        'k_Heel_contact_2'   : {},\n",
    "        'k_Toe_off_2'        : {},\n",
    "    }\n",
    "    \n",
    "    figures = {}\n",
    "    \n",
    "    for col in cols:\n",
    "        df = data[col]\n",
    "        if 'VELOCITY' in col:\n",
    "            y_label = 'Angular Velocity [deg/s]'\n",
    "        else:\n",
    "            y_label = 'Angle [deg]'\n",
    "        \n",
    "        # Create the trace for the main data line\n",
    "        trace = go.Scatter(x=time, y=df, mode='lines', name=cols[col], line=dict(color='firebrick'))\n",
    "        traces = [trace]\n",
    "        \n",
    "        ang['k_Heel_contact_1'][col] = round(df[k_Heel_contact_1], 2)\n",
    "        ang['k_Toe_off_1'][col]      = round(df[k_Toe_off_1], 2)\n",
    "        ang['k_Heel_contact_2'][col] = round(df[k_Heel_contact_2], 2)\n",
    "        ang['k_Toe_off_2'][col]      = round(df[k_Toe_off_2], 2)\n",
    "        \n",
    "        ang['max'][col]       = round(df.max(), 2)\n",
    "        ang['max_frame'][col] = np.where(df == df.max())[0][0]\n",
    "        ang['min'][col]       = round(df.min(), 2)\n",
    "        ang['min_frame'][col] = np.where(df == df.min())[0][0]\n",
    "        \n",
    "        reference_lines =[]\n",
    "        annotations = []\n",
    "        \n",
    "        for key_time, description in zip([k_Heel_contact_1, k_Toe_off_1, k_Heel_contact_2, k_Toe_off_2],\n",
    "                                     ['HC1', 'TO1', 'HC2', 'TO2']):\n",
    "            \n",
    "            # 참조선\n",
    "            reference_lines.append(\n",
    "            go.Scatter(x=[time[key_time], time[key_time]], y=[df.min(), df.max()],\n",
    "                       mode='lines', line=dict(color='black', width=2, dash='dash'),\n",
    "                       showlegend=False)\n",
    "        )\n",
    "            # 주석\n",
    "            annotations.append(\n",
    "            dict(x=time[key_time + 2], y=0.95, xref='x', yref='paper', showarrow=False,\n",
    "                 text=description,textangle=-90, bgcolor='rgba(0,0,0,0)', bordercolor='rgba(0,0,0,0)', borderwidth=0,\n",
    "                 )\n",
    "        )\n",
    "        print(key_time)\n",
    "        \n",
    "        "
   ]
  },
  {
   "cell_type": "code",
   "execution_count": null,
   "metadata": {},
   "outputs": [],
   "source": []
  }
 ],
 "metadata": {
  "kernelspec": {
   "display_name": "base",
   "language": "python",
   "name": "python3"
  },
  "language_info": {
   "codemirror_mode": {
    "name": "ipython",
    "version": 3
   },
   "file_extension": ".py",
   "mimetype": "text/x-python",
   "name": "python",
   "nbconvert_exporter": "python",
   "pygments_lexer": "ipython3",
   "version": "3.11.8"
  }
 },
 "nbformat": 4,
 "nbformat_minor": 2
}
