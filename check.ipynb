{
 "cells": [
  {
   "cell_type": "code",
   "execution_count": 1,
   "metadata": {},
   "outputs": [],
   "source": [
    "import pandas as pd\n",
    "import plotly.express as px\n",
    "import plotly.graph_objs as go\n",
    "import streamlit as st\n",
    "import numpy as np\n",
    "from glob import glob\n",
    "import data_concat"
   ]
  },
  {
   "cell_type": "code",
   "execution_count": 2,
   "metadata": {},
   "outputs": [
    {
     "name": "stderr",
     "output_type": "stream",
     "text": [
      "2024-04-03 10:14:42.159 WARNING streamlit.runtime.caching.cache_data_api: No runtime found, using MemoryCacheStorageManager\n",
      "2024-04-03 10:14:42.211 \n",
      "  \u001b[33m\u001b[1mWarning:\u001b[0m to view this Streamlit app on a browser, run it with the following\n",
      "  command:\n",
      "\n",
      "    streamlit run /opt/anaconda3/lib/python3.11/site-packages/ipykernel_launcher.py [ARGUMENTS]\n",
      "2024-04-03 10:14:42.211 No runtime found, using MemoryCacheStorageManager\n"
     ]
    }
   ],
   "source": [
    "st.set_page_config(layout=\"wide\")\n",
    "@st.cache_data\n",
    "def load_data():\n",
    "    kdf, fdf = data_concat.data_concat()\n",
    "    return kdf, fdf\n",
    "\n",
    "kdf, fdf = load_data()\n",
    "\n",
    "kdf['trial'] = kdf['trial'].astype(int)\n",
    "fdf['trial'] = fdf['trial'].astype(int)"
   ]
  },
  {
   "cell_type": "code",
   "execution_count": 3,
   "metadata": {},
   "outputs": [],
   "source": [
    "# 스트림릿 사이드바 설정\n",
    "unique_names = kdf['player'].unique()\n",
    "selected_name = st.sidebar.selectbox('Select Name', unique_names)\n",
    "filtered_df_by_name = kdf[kdf['player'] == selected_name]\n",
    "unique_dates = sorted(filtered_df_by_name['day'].unique())\n",
    "selected_date = st.sidebar.selectbox('Select Date', unique_dates)\n",
    "\n",
    "filtered_df_by_name_datas = kdf[(kdf['player'] == selected_name) &\n",
    "                                (kdf['day'] == selected_date)]\n",
    "unique_trial = sorted(filtered_df_by_name_datas['trial'].unique())\n",
    "selected_trial = st.sidebar.selectbox('Select Date', unique_trial)"
   ]
  },
  {
   "cell_type": "code",
   "execution_count": 4,
   "metadata": {},
   "outputs": [],
   "source": [
    "kine_filtered = kdf[(kdf['player'] == selected_name) & \n",
    "                    (kdf['day'] == selected_date) &\n",
    "                    (kdf['trial'] == selected_trial)]\n",
    "\n",
    "force_filtered = fdf[(fdf['player'] == selected_name) & \n",
    "                    (fdf['day'] == selected_date) &\n",
    "                    (fdf['trial'] == selected_trial)]"
   ]
  },
  {
   "cell_type": "code",
   "execution_count": 5,
   "metadata": {},
   "outputs": [],
   "source": [
    "kine_filtered.reset_index(inplace=True, drop=True)\n",
    "force_filtered.reset_index(inplace=True, drop=True)"
   ]
  },
  {
   "cell_type": "code",
   "execution_count": 6,
   "metadata": {},
   "outputs": [],
   "source": [
    "k_sr = 60\n",
    "k_Heel_contact_1  = kine_filtered['Heel_contact_1'][0]\n",
    "k_Toe_off_1       = kine_filtered['Toe_off_1'][0]      - k_Heel_contact_1\n",
    "k_Heel_contact_2  = kine_filtered['Heel_contact_2'][0] - k_Heel_contact_1\n",
    "k_Toe_off_2       = kine_filtered['Toe_off_2'][0]      - k_Heel_contact_1\n",
    "#stride_length = round(kine_filtered['stride_length'][0])\n",
    "\n",
    "f_sr = 2160\n",
    "f_Heel_contact_1  = force_filtered['Heel_contact_1'][0]\n",
    "f_Toe_off_1       = force_filtered['Toe_off_1'][0]      - f_Heel_contact_1\n",
    "f_Heel_contact_2  = force_filtered['Heel_contact_2'][0] - f_Heel_contact_1\n",
    "f_Toe_off_2       = force_filtered['Toe_off_2'][0]      - f_Heel_contact_1"
   ]
  },
  {
   "cell_type": "code",
   "execution_count": 7,
   "metadata": {},
   "outputs": [],
   "source": [
    "k_foot_1 = kine_filtered.iloc[k_Heel_contact_1:int(k_Toe_off_1 + k_Heel_contact_1 + (k_sr * 0.2)),:].reset_index(drop=True)\n",
    "f_foot_1 = force_filtered.iloc[f_Heel_contact_1:int(f_Toe_off_1 + f_Heel_contact_1 + (f_sr * 0.2)),:].reset_index(drop=True)\n",
    "\n",
    "k_foot_2 = kine_filtered.iloc[k_Heel_contact_2:int(k_Toe_off_2 + k_Heel_contact_2 + (k_sr * 0.2)),:].reset_index(drop=True)\n",
    "f_foot_2 = force_filtered.iloc[f_Heel_contact_2:int(f_Toe_off_2 + f_Heel_contact_2 + (f_sr * 0.2)),:].reset_index(drop=True)"
   ]
  },
  {
   "cell_type": "code",
   "execution_count": 8,
   "metadata": {},
   "outputs": [],
   "source": [
    "k_foot_1.drop(['Heel_contact_1','Toe_off_1','Heel_contact_2','Toe_off_2'], axis=1, inplace=True)\n",
    "f_foot_1.drop(['Heel_contact_1','Toe_off_1','Heel_contact_2','Toe_off_2'], axis=1, inplace=True)\n",
    "\n",
    "k_foot_2.drop(['Heel_contact_1','Toe_off_1','Heel_contact_2','Toe_off_2'], axis=1, inplace=True)\n",
    "f_foot_2.drop(['Heel_contact_1','Toe_off_1','Heel_contact_2','Toe_off_2'], axis=1, inplace=True)"
   ]
  },
  {
   "cell_type": "code",
   "execution_count": 9,
   "metadata": {},
   "outputs": [],
   "source": [
    "k1_len = len(k_foot_1)\n",
    "k1_time = np.arange(0,k1_len/k_sr, 1/k_sr)\n",
    "k_1time = k1_time.round(3)\n",
    "\n",
    "f1_len = len(f_foot_1)\n",
    "f1_time = np.arange(0,f1_len/f_sr, 1/f_sr)\n",
    "f1_time = f1_time.round(3)\n",
    "\n",
    "k2_len = len(k_foot_2)\n",
    "k2_time = np.arange(0,k2_len/k_sr, 1/k_sr)\n",
    "k2_time = k2_time.round(3)\n",
    "\n",
    "f2_len = len(f_foot_2)\n",
    "f2_time = np.arange(0,f2_len/f_sr, 1/f_sr)\n",
    "f2_time = f2_time.round(3)"
   ]
  },
  {
   "cell_type": "code",
   "execution_count": 12,
   "metadata": {},
   "outputs": [
    {
     "data": {
      "text/plain": [
       "52"
      ]
     },
     "execution_count": 12,
     "metadata": {},
     "output_type": "execute_result"
    }
   ],
   "source": [
    "k1_len"
   ]
  },
  {
   "cell_type": "code",
   "execution_count": 13,
   "metadata": {},
   "outputs": [
    {
     "data": {
      "text/plain": [
       "85"
      ]
     },
     "execution_count": 13,
     "metadata": {},
     "output_type": "execute_result"
    }
   ],
   "source": [
    "k2_len"
   ]
  },
  {
   "cell_type": "code",
   "execution_count": 14,
   "metadata": {},
   "outputs": [
    {
     "data": {
      "text/plain": [
       "1866"
      ]
     },
     "execution_count": 14,
     "metadata": {},
     "output_type": "execute_result"
    }
   ],
   "source": [
    "f1_len"
   ]
  },
  {
   "cell_type": "code",
   "execution_count": 15,
   "metadata": {},
   "outputs": [
    {
     "data": {
      "text/plain": [
       "3062"
      ]
     },
     "execution_count": 15,
     "metadata": {},
     "output_type": "execute_result"
    }
   ],
   "source": [
    "f2_len"
   ]
  },
  {
   "cell_type": "code",
   "execution_count": null,
   "metadata": {},
   "outputs": [],
   "source": []
  }
 ],
 "metadata": {
  "kernelspec": {
   "display_name": "base",
   "language": "python",
   "name": "python3"
  },
  "language_info": {
   "codemirror_mode": {
    "name": "ipython",
    "version": 3
   },
   "file_extension": ".py",
   "mimetype": "text/x-python",
   "name": "python",
   "nbconvert_exporter": "python",
   "pygments_lexer": "ipython3",
   "version": "3.11.8"
  }
 },
 "nbformat": 4,
 "nbformat_minor": 2
}
