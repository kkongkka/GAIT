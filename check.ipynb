{
 "cells": [
  {
   "cell_type": "code",
   "execution_count": 5,
   "metadata": {},
   "outputs": [
    {
     "name": "stderr",
     "output_type": "stream",
     "text": [
      "2024-04-07 22:27:18.292 No runtime found, using MemoryCacheStorageManager\n"
     ]
    }
   ],
   "source": [
    "import pandas as pd\n",
    "import plotly.express as px\n",
    "import plotly.graph_objs as go\n",
    "import streamlit as st\n",
    "import numpy as np\n",
    "\n",
    "from glob import glob\n",
    "import data_concat\n",
    "\n",
    "st.set_page_config(layout=\"wide\")\n",
    "@st.cache_data\n",
    "def load_data():\n",
    "    fp1, fp2 = data_concat.data_concat()\n",
    "    return fp1, fp2\n",
    "\n",
    "fp1, fp2 = load_data()\n",
    "\n",
    "fp1['trial'] = fp1['trial'].astype(int)\n",
    "fp2['trial'] = fp2['trial'].astype(int)\n",
    "\n",
    "# 스트림릿 사이드바 설정\n",
    "unique_names = fp1['player'].unique()\n",
    "selected_name = st.sidebar.selectbox('Select Name', unique_names)\n",
    "filtered_df_by_name = fp1[fp1['player'] == selected_name]\n",
    "unique_dates = sorted(filtered_df_by_name['day'].unique())\n",
    "selected_date = st.sidebar.selectbox('Select Date', unique_dates)\n",
    "\n",
    "filtered_df_by_name_datas = fp1[(fp1['player'] == selected_name) &\n",
    "                                (fp1['day'] == selected_date)]\n",
    "unique_trial = sorted(filtered_df_by_name_datas['trial'].unique())\n",
    "selected_trial = st.sidebar.selectbox('Select Date', unique_trial)\n",
    "\n",
    "fp1_filtered = fp1[(fp1['player'] == selected_name) & \n",
    "                    (fp1['day'] == selected_date) &\n",
    "                    (fp1['trial'] == selected_trial)]\n",
    "\n",
    "fp2_filtered = fp2[(fp2['player'] == selected_name) & \n",
    "                    (fp2['day'] == selected_date) &\n",
    "                    (fp2['trial'] == selected_trial)]\n",
    "\n",
    "fp1_filtered.reset_index(inplace=True, drop=True)\n",
    "fp2_filtered.reset_index(inplace=True, drop=True)\n",
    "\n",
    "k_sr = 60; f_sr = 2160\n",
    "\n",
    "k_Heel_contact_1  = fp1_filtered[round(fp1_filtered['k_Heel_contact_1'][0],) == round(fp1_filtered['FRAMES'],2)].index.tolist()\n",
    "k_Toe_off_1       = fp1_filtered[round(fp1_filtered['k_Toe_off_1'][0],) == round(fp1_filtered['FRAMES'],2)].index.tolist()\n",
    "k_Heel_contact_2  = fp2_filtered[round(fp2_filtered['k_Heel_contact_2'][0],) == round(fp2_filtered['FRAMES'],2)].index.tolist()\n",
    "k_Toe_off_2       = fp2_filtered[round(fp2_filtered['k_Toe_off_2'][0],) == round(fp2_filtered['FRAMES'],2)].index.tolist()\n",
    "\n",
    "fp1_filtered.drop(['k_Heel_contact_1','k_Toe_off_1','k_Heel_contact_2','k_Toe_off_2','f_Heel_contact_1','f_Toe_off_1','f_Heel_contact_2','f_Toe_off_2'], axis=1, inplace=True)\n",
    "fp2_filtered.drop(['k_Heel_contact_1','k_Toe_off_1','k_Heel_contact_2','k_Toe_off_2','f_Heel_contact_1','f_Toe_off_1','f_Heel_contact_2','f_Toe_off_2'], axis=1, inplace=True)\n",
    "\n",
    "fp1_len = len(fp1_filtered)\n",
    "fp1_time = np.arange(0,fp1_len/k_sr, 1/k_sr)\n",
    "fp_1time = fp1_time.round(3)\n",
    "\n",
    "fp2_len = len(fp2_filtered)\n",
    "fp2_time = np.arange(0,fp2_len/k_sr, 1/k_sr)\n",
    "fp_2time = fp2_time.round(3)"
   ]
  },
  {
   "cell_type": "code",
   "execution_count": 8,
   "metadata": {},
   "outputs": [],
   "source": [
    "FP1_ang_cols = {\n",
    "    'PELVIS_ANGLE_X' : 'Pelvic_Anterior_Tilt',\n",
    "    #'             ' : 'Pelvic_Up_(Obliquity)',\n",
    "    #'             ' : 'Pelvic_Internal_Rotation',\n",
    "    \n",
    "    'FP1_HIP_ANGLE_X' : 'Hip_Flexion',\n",
    "    'FP1_HIP_ANGLE_Y' : 'Hip_Adduction',\n",
    "    'FP1_HIP_ANGLE_Z' : 'Hip_Internal_Rotation',\n",
    "    \n",
    "    'FP1_KNEE_ANGLE_X' : 'Knee_Flexion',\n",
    "    #'               ' : 'Knee_Varus',\n",
    "    #'               ' : 'Knee_Internal_Rotation',\n",
    "    \n",
    "    'FP1_ANKLE_ANGLE_X' : 'Ankle_Dorsiflexion',\n",
    "    'FP1_ANKLE_ANGLE_Y' : 'add',\n",
    "    'FP1_ANKLE_ANGLE_Z' : 'Ankle_Inversion',\n",
    "    \n",
    "    #'RT_ANKLE_ANGLE_Y' : 'Ankle_Rotation',\n",
    "    }\n",
    "\n",
    "FP2_ang_cols = {\n",
    "    'PELVIS_ANGLE_X' : 'Pelvic_Anterior_Tilt',\n",
    "    #'              ' : 'Pelvic_Up_(Obliquity)',\n",
    "    #'              ' : 'Pelvic_Internal_Rotation',\n",
    "    \n",
    "    'FP2_HIP_ANGLE_X' : 'Hip_Flexion',\n",
    "    'FP2_HIP_ANGLE_Y' : 'Hip_Adduction',\n",
    "    'FP2_HIP_ANGLE_Z' : 'Hip_Internal_Rotation',\n",
    "    \n",
    "    'FP2_KNEE_ANGLE_X' : 'Knee_Flexion',\n",
    "    #'               ' : 'Knee_Varus',\n",
    "    #'               ' : 'Knee_Internal_Rotation',\n",
    "    \n",
    "    'FP2_ANKLE_ANGLE_X' : 'Ankle_Dorsiflexion',\n",
    "    'FP2_ANKLE_ANGLE_Y' : 'add',\n",
    "    'FP2_ANKLE_ANGLE_Z' : 'Ankle_Inversion',\n",
    "    \n",
    "    #'RT_ANKLE_ANGLE_Y' : 'Ankle_Rotation',\n",
    "    }\n",
    "\n",
    "ap1_cols = {'FP1_FORCE_Y' : ['Stride Leg' , 'red'],}\n",
    "vt1_cols = {'FP1_FORCE_Z' : ['Stride Leg' , 'red'],}\n",
    "\n",
    "ap2_cols = {'FP2_FORCE_Y' : ['Stride Leg', 'red'],}\n",
    "vt2_cols = {'FP2_FORCE_Z' : ['Stride Leg' , 'red'],}"
   ]
  },
  {
   "cell_type": "code",
   "execution_count": 29,
   "metadata": {},
   "outputs": [],
   "source": [
    "def one_angle_plotly(data, cols, time, k_Heel_contact_1, k_Toe_off_1, k_Heel_contact_2, k_Toe_off_2):\n",
    "    ang = {\n",
    "        'max'       : {},\n",
    "        'max_frame' : {},\n",
    "        'min'       : {},\n",
    "        'min_frame' : {},\n",
    "        'k_Heel_contact_1'   : {},\n",
    "        'k_Toe_off_1'        : {},\n",
    "        'k_Heel_contact_2'   : {},\n",
    "        'k_Toe_off_2'        : {},\n",
    "    }\n",
    "    \n",
    "    figures = {}\n",
    "    \n",
    "    for col in cols:\n",
    "        df = data[col]\n",
    "        if 'VELOCITY' in col:\n",
    "            y_label = 'Angular Velocity [deg/s]'\n",
    "        else:\n",
    "            y_label = 'Angle [deg]'\n",
    "        \n",
    "        # Create the trace for the main data line\n",
    "        trace = go.Scatter(x=time, y=df, mode='lines', name=cols[col], line=dict(color='firebrick'))\n",
    "        traces = [trace]\n",
    "        \n",
    "        ang['k_Heel_contact_1'][col] = round(df[k_Heel_contact_1])\n",
    "        ang['k_Toe_off_1'][col]      = round(df[k_Toe_off_1])\n",
    "        ang['k_Heel_contact_2'][col] = round(df[k_Heel_contact_2])\n",
    "        ang['k_Toe_off_2'][col]      = round(df[k_Toe_off_2])\n",
    "        \n",
    "        ang['max'][col]       = round(df.max(), 2)\n",
    "        ang['max_frame'][col] = np.where(df == df.max())[0][0]\n",
    "        ang['min'][col]       = round(df.min(), 2)\n",
    "        ang['min_frame'][col] = np.where(df == df.min())[0][0]\n",
    "        \n",
    "        reference_lines =[]\n",
    "        annotations = []\n",
    "        \n",
    "        for key_time, description in zip([k_Heel_contact_1, k_Toe_off_1, k_Heel_contact_2, k_Toe_off_2],\n",
    "                                     ['HC1', 'TO1', 'HC2', 'TO2']):\n",
    "            \n",
    "            # 참조선\n",
    "            reference_lines.append(\n",
    "            go.Scatter(x=[time[key_time], time[key_time]], y=[df.min(), df.max()],\n",
    "                       mode='lines', line=dict(color='black', width=2, dash='dash'),\n",
    "                       showlegend=False)\n",
    "        )\n",
    "            # 주석\n",
    "            annotations.append(\n",
    "            dict(x=time[key_time], y=0.95, xref='x', yref='paper', showarrow=False,\n",
    "                 text=description,textangle=-90, bgcolor='rgba(0,0,0,0)', bordercolor='rgba(0,0,0,0)', borderwidth=0,\n",
    "                 )\n",
    "        )\n",
    "        \n",
    "        # Define the layout\n",
    "        layout = go.Layout(\n",
    "            title=f'{cols[col]}',\n",
    "            xaxis=dict(title='Time [s]',\n",
    "                       showgrid=False),\n",
    "            yaxis=dict(title=y_label,\n",
    "                       autorange = True,\n",
    "                       rangemode='tozero',\n",
    "                        showgrid=True,         # This will show the horizontal gridlines\n",
    "                        gridcolor='lightgrey',\n",
    "                        gridwidth=1,\n",
    "                        zeroline=False,\n",
    "                        ),                        \n",
    "            showlegend=False,\n",
    "            margin=dict(l=40, r=40, t=40, b=40),\n",
    "            height=400,\n",
    "            plot_bgcolor='y',\n",
    "            annotations=annotations\n",
    "        )\n",
    "        \n",
    "        # Create the figure and add the traces to it\n",
    "        fig = go.Figure(data=traces + reference_lines, layout=layout)\n",
    "        \n",
    "        # Store the figure in the dictionary\n",
    "        figures[col] = fig\n",
    "        \n",
    "    return ang, figures\n",
    "\n",
    "def grf_plotly(data, cols, time, k_Heel_contact_1, k_Toe_off_1, k_Heel_contact_2, k_Toe_off_2, axis):\n",
    "    title = 'GROUND REACTION FORCE (AP-AXIS)' if axis == 'ap' else 'GROUND REACTION FORCE (Vertical)'\n",
    "    \n",
    "    y_values = {\n",
    "        'max'       : {},\n",
    "        'max_frame' : {},\n",
    "        'min'       : {},\n",
    "        'min_frame' : {},\n",
    "        'k_Heel_contact_1'   : {},\n",
    "        'k_Toe_off_1'        : {},\n",
    "        'k_Heel_contact_2'   : {},\n",
    "        'k_Toe_off_2'        : {},\n",
    "    }\n",
    "    \n",
    "    # Create traces\n",
    "    traces = []\n",
    "    for col, info in cols.items():\n",
    "        df = data[col]\n",
    "        trace = go.Scatter(x=time, y=df, mode='lines', name=info[0], line=dict(color=info[-1]))\n",
    "        traces.append(trace)\n",
    "        \n",
    "        # Perform and store the calculations for max, min and specific times\n",
    "        y_values['k_Heel_contact_1'][col] = round(df[k_Heel_contact_1])\n",
    "        y_values['k_Toe_off_1'][col]      = round(df[k_Toe_off_1])\n",
    "        y_values['k_Heel_contact_2'][col] = round(df[k_Heel_contact_2])\n",
    "        y_values['k_Toe_off_2'][col]      = round(df[k_Toe_off_2])\n",
    "        \n",
    "        y_values['max'][col]       = round(df.max(), 2)\n",
    "        y_values['max_frame'][col] = np.where(df == df.max())[0][0]\n",
    "        y_values['min'][col]       = round(df.min(), 2)\n",
    "        y_values['min_frame'][col] = np.where(df == df.min())[0][0]\n",
    "        \n",
    "    # Adding reference lines and annotations\n",
    "    reference_lines = []\n",
    "    annotations = []\n",
    "\n",
    "    # Add vertical lines and annotations for key events\n",
    "    for key_time, description in zip([k_Heel_contact_1, k_Toe_off_1, k_Heel_contact_2, k_Toe_off_2],\n",
    "                                    ['HC1', 'TO1', 'HC2', 'TO2']):\n",
    "        reference_lines.append(\n",
    "        go.Scatter(x=[time[key_time], time[key_time]], y=[df.min(), df.max()],\n",
    "                    mode='lines', line=dict(color='black', width=2, dash='dash'),\n",
    "                    showlegend=False)\n",
    "    )\n",
    "        annotations.append(\n",
    "        dict(x=time[key_time], y=0.95, xref='x', yref='paper', showarrow=False,\n",
    "                text=description,textangle=-90, bgcolor='rgba(0,0,0,0)', bordercolor='rgba(0,0,0,0)', borderwidth=0,\n",
    "                )\n",
    "    )\n",
    "\n",
    "    # Update the layout with additional elements\n",
    "    layout = go.Layout(\n",
    "        title=title,\n",
    "        xaxis=dict(title='Time [s]',\n",
    "                    showgrid=False),\n",
    "        yaxis=dict(\n",
    "                    title='Force [% BW]',\n",
    "                    showgrid=True,         # This will show the horizontal gridlines\n",
    "                    gridcolor='lightgrey',\n",
    "                    gridwidth=1,\n",
    "                    zeroline=False\n",
    "                ),\n",
    "        showlegend=True,\n",
    "        legend=dict(\n",
    "                    x=1, # Adjust this value to move the legend left or right\n",
    "                    y=1, # Adjust this value to move the legend up or down\n",
    "                    xanchor='right', # Anchor the legend's right side at the x position\n",
    "                    yanchor='top', # Anchor the legend's top at the y position\n",
    "                    bgcolor='rgb(43,48,61)' # Set a background color with a bit of transparency\n",
    "                    ),\n",
    "        margin=dict(l=40, r=40, t=40, b=40),\n",
    "        height=600,\n",
    "        hovermode='closest',\n",
    "        plot_bgcolor='rgb(43,48,61)',\n",
    "        annotations=annotations\n",
    "    )\n",
    "\n",
    "    # Create the figure\n",
    "    fig = go.Figure(data=traces + reference_lines, layout=layout)\n",
    "\n",
    "    return fig, y_values"
   ]
  },
  {
   "cell_type": "code",
   "execution_count": 30,
   "metadata": {},
   "outputs": [
    {
     "ename": "ValueError",
     "evalue": "\n    Invalid value of type 'builtins.str' received for the 'plot_bgcolor' property of layout\n        Received value: 'y'\n\n    The 'plot_bgcolor' property is a color and may be specified as:\n      - A hex string (e.g. '#ff0000')\n      - An rgb/rgba string (e.g. 'rgb(255,0,0)')\n      - An hsl/hsla string (e.g. 'hsl(0,100%,50%)')\n      - An hsv/hsva string (e.g. 'hsv(0,100%,100%)')\n      - A named CSS color:\n            aliceblue, antiquewhite, aqua, aquamarine, azure,\n            beige, bisque, black, blanchedalmond, blue,\n            blueviolet, brown, burlywood, cadetblue,\n            chartreuse, chocolate, coral, cornflowerblue,\n            cornsilk, crimson, cyan, darkblue, darkcyan,\n            darkgoldenrod, darkgray, darkgrey, darkgreen,\n            darkkhaki, darkmagenta, darkolivegreen, darkorange,\n            darkorchid, darkred, darksalmon, darkseagreen,\n            darkslateblue, darkslategray, darkslategrey,\n            darkturquoise, darkviolet, deeppink, deepskyblue,\n            dimgray, dimgrey, dodgerblue, firebrick,\n            floralwhite, forestgreen, fuchsia, gainsboro,\n            ghostwhite, gold, goldenrod, gray, grey, green,\n            greenyellow, honeydew, hotpink, indianred, indigo,\n            ivory, khaki, lavender, lavenderblush, lawngreen,\n            lemonchiffon, lightblue, lightcoral, lightcyan,\n            lightgoldenrodyellow, lightgray, lightgrey,\n            lightgreen, lightpink, lightsalmon, lightseagreen,\n            lightskyblue, lightslategray, lightslategrey,\n            lightsteelblue, lightyellow, lime, limegreen,\n            linen, magenta, maroon, mediumaquamarine,\n            mediumblue, mediumorchid, mediumpurple,\n            mediumseagreen, mediumslateblue, mediumspringgreen,\n            mediumturquoise, mediumvioletred, midnightblue,\n            mintcream, mistyrose, moccasin, navajowhite, navy,\n            oldlace, olive, olivedrab, orange, orangered,\n            orchid, palegoldenrod, palegreen, paleturquoise,\n            palevioletred, papayawhip, peachpuff, peru, pink,\n            plum, powderblue, purple, red, rosybrown,\n            royalblue, rebeccapurple, saddlebrown, salmon,\n            sandybrown, seagreen, seashell, sienna, silver,\n            skyblue, slateblue, slategray, slategrey, snow,\n            springgreen, steelblue, tan, teal, thistle, tomato,\n            turquoise, violet, wheat, white, whitesmoke,\n            yellow, yellowgreen",
     "output_type": "error",
     "traceback": [
      "\u001b[0;31m---------------------------------------------------------------------------\u001b[0m",
      "\u001b[0;31mValueError\u001b[0m                                Traceback (most recent call last)",
      "Cell \u001b[0;32mIn[30], line 1\u001b[0m\n\u001b[0;32m----> 1\u001b[0m FP1_values, FP1_fig \u001b[38;5;241m=\u001b[39m one_angle_plotly(fp1_filtered, FP1_ang_cols, fp_1time, k_Heel_contact_1, k_Toe_off_1, k_Heel_contact_2, k_Toe_off_2)\n\u001b[1;32m      2\u001b[0m FP2_values, FP2_fig \u001b[38;5;241m=\u001b[39m one_angle_plotly(fp2_filtered, FP2_ang_cols, fp_2time, k_Heel_contact_1, k_Toe_off_1, k_Heel_contact_2, k_Toe_off_2)\n\u001b[1;32m      4\u001b[0m force1_ap_fig, force1_ap_values \u001b[38;5;241m=\u001b[39m grf_plotly(fp1_filtered, ap1_cols, fp_1time, k_Heel_contact_1, k_Toe_off_1, k_Heel_contact_2, k_Toe_off_2, axis\u001b[38;5;241m=\u001b[39m\u001b[38;5;124m'\u001b[39m\u001b[38;5;124map\u001b[39m\u001b[38;5;124m'\u001b[39m)\n",
      "Cell \u001b[0;32mIn[29], line 56\u001b[0m, in \u001b[0;36mone_angle_plotly\u001b[0;34m(data, cols, time, k_Heel_contact_1, k_Toe_off_1, k_Heel_contact_2, k_Toe_off_2)\u001b[0m\n\u001b[1;32m     49\u001b[0m     annotations\u001b[38;5;241m.\u001b[39mappend(\n\u001b[1;32m     50\u001b[0m     \u001b[38;5;28mdict\u001b[39m(x\u001b[38;5;241m=\u001b[39mtime[key_time], y\u001b[38;5;241m=\u001b[39m\u001b[38;5;241m0.95\u001b[39m, xref\u001b[38;5;241m=\u001b[39m\u001b[38;5;124m'\u001b[39m\u001b[38;5;124mx\u001b[39m\u001b[38;5;124m'\u001b[39m, yref\u001b[38;5;241m=\u001b[39m\u001b[38;5;124m'\u001b[39m\u001b[38;5;124mpaper\u001b[39m\u001b[38;5;124m'\u001b[39m, showarrow\u001b[38;5;241m=\u001b[39m\u001b[38;5;28;01mFalse\u001b[39;00m,\n\u001b[1;32m     51\u001b[0m          text\u001b[38;5;241m=\u001b[39mdescription,textangle\u001b[38;5;241m=\u001b[39m\u001b[38;5;241m-\u001b[39m\u001b[38;5;241m90\u001b[39m, bgcolor\u001b[38;5;241m=\u001b[39m\u001b[38;5;124m'\u001b[39m\u001b[38;5;124mrgba(0,0,0,0)\u001b[39m\u001b[38;5;124m'\u001b[39m, bordercolor\u001b[38;5;241m=\u001b[39m\u001b[38;5;124m'\u001b[39m\u001b[38;5;124mrgba(0,0,0,0)\u001b[39m\u001b[38;5;124m'\u001b[39m, borderwidth\u001b[38;5;241m=\u001b[39m\u001b[38;5;241m0\u001b[39m,\n\u001b[1;32m     52\u001b[0m          )\n\u001b[1;32m     53\u001b[0m )\n\u001b[1;32m     55\u001b[0m \u001b[38;5;66;03m# Define the layout\u001b[39;00m\n\u001b[0;32m---> 56\u001b[0m layout \u001b[38;5;241m=\u001b[39m go\u001b[38;5;241m.\u001b[39mLayout(\n\u001b[1;32m     57\u001b[0m     title\u001b[38;5;241m=\u001b[39m\u001b[38;5;124mf\u001b[39m\u001b[38;5;124m'\u001b[39m\u001b[38;5;132;01m{\u001b[39;00mcols[col]\u001b[38;5;132;01m}\u001b[39;00m\u001b[38;5;124m'\u001b[39m,\n\u001b[1;32m     58\u001b[0m     xaxis\u001b[38;5;241m=\u001b[39m\u001b[38;5;28mdict\u001b[39m(title\u001b[38;5;241m=\u001b[39m\u001b[38;5;124m'\u001b[39m\u001b[38;5;124mTime [s]\u001b[39m\u001b[38;5;124m'\u001b[39m,\n\u001b[1;32m     59\u001b[0m                showgrid\u001b[38;5;241m=\u001b[39m\u001b[38;5;28;01mFalse\u001b[39;00m),\n\u001b[1;32m     60\u001b[0m     yaxis\u001b[38;5;241m=\u001b[39m\u001b[38;5;28mdict\u001b[39m(title\u001b[38;5;241m=\u001b[39my_label,\n\u001b[1;32m     61\u001b[0m                autorange \u001b[38;5;241m=\u001b[39m \u001b[38;5;28;01mTrue\u001b[39;00m,\n\u001b[1;32m     62\u001b[0m                rangemode\u001b[38;5;241m=\u001b[39m\u001b[38;5;124m'\u001b[39m\u001b[38;5;124mtozero\u001b[39m\u001b[38;5;124m'\u001b[39m,\n\u001b[1;32m     63\u001b[0m                 showgrid\u001b[38;5;241m=\u001b[39m\u001b[38;5;28;01mTrue\u001b[39;00m,         \u001b[38;5;66;03m# This will show the horizontal gridlines\u001b[39;00m\n\u001b[1;32m     64\u001b[0m                 gridcolor\u001b[38;5;241m=\u001b[39m\u001b[38;5;124m'\u001b[39m\u001b[38;5;124mlightgrey\u001b[39m\u001b[38;5;124m'\u001b[39m,\n\u001b[1;32m     65\u001b[0m                 gridwidth\u001b[38;5;241m=\u001b[39m\u001b[38;5;241m1\u001b[39m,\n\u001b[1;32m     66\u001b[0m                 zeroline\u001b[38;5;241m=\u001b[39m\u001b[38;5;28;01mFalse\u001b[39;00m,\n\u001b[1;32m     67\u001b[0m                 ),                        \n\u001b[1;32m     68\u001b[0m     showlegend\u001b[38;5;241m=\u001b[39m\u001b[38;5;28;01mFalse\u001b[39;00m,\n\u001b[1;32m     69\u001b[0m     margin\u001b[38;5;241m=\u001b[39m\u001b[38;5;28mdict\u001b[39m(l\u001b[38;5;241m=\u001b[39m\u001b[38;5;241m40\u001b[39m, r\u001b[38;5;241m=\u001b[39m\u001b[38;5;241m40\u001b[39m, t\u001b[38;5;241m=\u001b[39m\u001b[38;5;241m40\u001b[39m, b\u001b[38;5;241m=\u001b[39m\u001b[38;5;241m40\u001b[39m),\n\u001b[1;32m     70\u001b[0m     height\u001b[38;5;241m=\u001b[39m\u001b[38;5;241m400\u001b[39m,\n\u001b[1;32m     71\u001b[0m     plot_bgcolor\u001b[38;5;241m=\u001b[39m\u001b[38;5;124m'\u001b[39m\u001b[38;5;124my\u001b[39m\u001b[38;5;124m'\u001b[39m,\n\u001b[1;32m     72\u001b[0m     annotations\u001b[38;5;241m=\u001b[39mannotations\n\u001b[1;32m     73\u001b[0m )\n\u001b[1;32m     75\u001b[0m \u001b[38;5;66;03m# Create the figure and add the traces to it\u001b[39;00m\n\u001b[1;32m     76\u001b[0m fig \u001b[38;5;241m=\u001b[39m go\u001b[38;5;241m.\u001b[39mFigure(data\u001b[38;5;241m=\u001b[39mtraces \u001b[38;5;241m+\u001b[39m reference_lines, layout\u001b[38;5;241m=\u001b[39mlayout)\n",
      "File \u001b[0;32m/opt/anaconda3/lib/python3.11/site-packages/plotly/graph_objs/_layout.py:6190\u001b[0m, in \u001b[0;36mLayout.__init__\u001b[0;34m(self, arg, activeshape, annotations, annotationdefaults, autosize, autotypenumbers, bargap, bargroupgap, barmode, barnorm, boxgap, boxgroupgap, boxmode, calendar, clickmode, coloraxis, colorscale, colorway, computed, datarevision, dragmode, editrevision, extendfunnelareacolors, extendiciclecolors, extendpiecolors, extendsunburstcolors, extendtreemapcolors, font, funnelareacolorway, funnelgap, funnelgroupgap, funnelmode, geo, grid, height, hiddenlabels, hiddenlabelssrc, hidesources, hoverdistance, hoverlabel, hovermode, iciclecolorway, images, imagedefaults, legend, mapbox, margin, meta, metasrc, modebar, newshape, paper_bgcolor, piecolorway, plot_bgcolor, polar, scene, selectdirection, selectionrevision, separators, shapes, shapedefaults, showlegend, sliders, sliderdefaults, smith, spikedistance, sunburstcolorway, template, ternary, title, titlefont, transition, treemapcolorway, uirevision, uniformtext, updatemenus, updatemenudefaults, violingap, violingroupgap, violinmode, waterfallgap, waterfallgroupgap, waterfallmode, width, xaxis, yaxis, **kwargs)\u001b[0m\n\u001b[1;32m   6188\u001b[0m _v \u001b[38;5;241m=\u001b[39m plot_bgcolor \u001b[38;5;28;01mif\u001b[39;00m plot_bgcolor \u001b[38;5;129;01mis\u001b[39;00m \u001b[38;5;129;01mnot\u001b[39;00m \u001b[38;5;28;01mNone\u001b[39;00m \u001b[38;5;28;01melse\u001b[39;00m _v\n\u001b[1;32m   6189\u001b[0m \u001b[38;5;28;01mif\u001b[39;00m _v \u001b[38;5;129;01mis\u001b[39;00m \u001b[38;5;129;01mnot\u001b[39;00m \u001b[38;5;28;01mNone\u001b[39;00m:\n\u001b[0;32m-> 6190\u001b[0m     \u001b[38;5;28mself\u001b[39m[\u001b[38;5;124m\"\u001b[39m\u001b[38;5;124mplot_bgcolor\u001b[39m\u001b[38;5;124m\"\u001b[39m] \u001b[38;5;241m=\u001b[39m _v\n\u001b[1;32m   6191\u001b[0m _v \u001b[38;5;241m=\u001b[39m arg\u001b[38;5;241m.\u001b[39mpop(\u001b[38;5;124m\"\u001b[39m\u001b[38;5;124mpolar\u001b[39m\u001b[38;5;124m\"\u001b[39m, \u001b[38;5;28;01mNone\u001b[39;00m)\n\u001b[1;32m   6192\u001b[0m _v \u001b[38;5;241m=\u001b[39m polar \u001b[38;5;28;01mif\u001b[39;00m polar \u001b[38;5;129;01mis\u001b[39;00m \u001b[38;5;129;01mnot\u001b[39;00m \u001b[38;5;28;01mNone\u001b[39;00m \u001b[38;5;28;01melse\u001b[39;00m _v\n",
      "File \u001b[0;32m/opt/anaconda3/lib/python3.11/site-packages/plotly/basedatatypes.py:5861\u001b[0m, in \u001b[0;36mBaseLayoutType.__setitem__\u001b[0;34m(self, prop, value)\u001b[0m\n\u001b[1;32m   5858\u001b[0m match \u001b[38;5;241m=\u001b[39m \u001b[38;5;28mself\u001b[39m\u001b[38;5;241m.\u001b[39m_subplot_re_match(prop)\n\u001b[1;32m   5859\u001b[0m \u001b[38;5;28;01mif\u001b[39;00m match \u001b[38;5;129;01mis\u001b[39;00m \u001b[38;5;28;01mNone\u001b[39;00m:\n\u001b[1;32m   5860\u001b[0m     \u001b[38;5;66;03m# Set as ordinary property\u001b[39;00m\n\u001b[0;32m-> 5861\u001b[0m     \u001b[38;5;28msuper\u001b[39m(BaseLayoutHierarchyType, \u001b[38;5;28mself\u001b[39m)\u001b[38;5;241m.\u001b[39m\u001b[38;5;21m__setitem__\u001b[39m(prop, value)\n\u001b[1;32m   5862\u001b[0m \u001b[38;5;28;01melse\u001b[39;00m:\n\u001b[1;32m   5863\u001b[0m     \u001b[38;5;66;03m# Set as subplotid property\u001b[39;00m\n\u001b[1;32m   5864\u001b[0m     \u001b[38;5;28mself\u001b[39m\u001b[38;5;241m.\u001b[39m_set_subplotid_prop(prop, value)\n",
      "File \u001b[0;32m/opt/anaconda3/lib/python3.11/site-packages/plotly/basedatatypes.py:4859\u001b[0m, in \u001b[0;36mBasePlotlyType.__setitem__\u001b[0;34m(self, prop, value)\u001b[0m\n\u001b[1;32m   4855\u001b[0m         \u001b[38;5;28mself\u001b[39m\u001b[38;5;241m.\u001b[39m_set_array_prop(prop, value)\n\u001b[1;32m   4857\u001b[0m     \u001b[38;5;66;03m# ### Handle simple property ###\u001b[39;00m\n\u001b[1;32m   4858\u001b[0m     \u001b[38;5;28;01melse\u001b[39;00m:\n\u001b[0;32m-> 4859\u001b[0m         \u001b[38;5;28mself\u001b[39m\u001b[38;5;241m.\u001b[39m_set_prop(prop, value)\n\u001b[1;32m   4860\u001b[0m \u001b[38;5;28;01melse\u001b[39;00m:\n\u001b[1;32m   4861\u001b[0m     \u001b[38;5;66;03m# Make sure properties dict is initialized\u001b[39;00m\n\u001b[1;32m   4862\u001b[0m     \u001b[38;5;28mself\u001b[39m\u001b[38;5;241m.\u001b[39m_init_props()\n",
      "File \u001b[0;32m/opt/anaconda3/lib/python3.11/site-packages/plotly/basedatatypes.py:5203\u001b[0m, in \u001b[0;36mBasePlotlyType._set_prop\u001b[0;34m(self, prop, val)\u001b[0m\n\u001b[1;32m   5201\u001b[0m         \u001b[38;5;28;01mreturn\u001b[39;00m\n\u001b[1;32m   5202\u001b[0m     \u001b[38;5;28;01melse\u001b[39;00m:\n\u001b[0;32m-> 5203\u001b[0m         \u001b[38;5;28;01mraise\u001b[39;00m err\n\u001b[1;32m   5205\u001b[0m \u001b[38;5;66;03m# val is None\u001b[39;00m\n\u001b[1;32m   5206\u001b[0m \u001b[38;5;66;03m# -----------\u001b[39;00m\n\u001b[1;32m   5207\u001b[0m \u001b[38;5;28;01mif\u001b[39;00m val \u001b[38;5;129;01mis\u001b[39;00m \u001b[38;5;28;01mNone\u001b[39;00m:\n\u001b[1;32m   5208\u001b[0m     \u001b[38;5;66;03m# Check if we should send null update\u001b[39;00m\n",
      "File \u001b[0;32m/opt/anaconda3/lib/python3.11/site-packages/plotly/basedatatypes.py:5198\u001b[0m, in \u001b[0;36mBasePlotlyType._set_prop\u001b[0;34m(self, prop, val)\u001b[0m\n\u001b[1;32m   5195\u001b[0m validator \u001b[38;5;241m=\u001b[39m \u001b[38;5;28mself\u001b[39m\u001b[38;5;241m.\u001b[39m_get_validator(prop)\n\u001b[1;32m   5197\u001b[0m \u001b[38;5;28;01mtry\u001b[39;00m:\n\u001b[0;32m-> 5198\u001b[0m     val \u001b[38;5;241m=\u001b[39m validator\u001b[38;5;241m.\u001b[39mvalidate_coerce(val)\n\u001b[1;32m   5199\u001b[0m \u001b[38;5;28;01mexcept\u001b[39;00m \u001b[38;5;167;01mValueError\u001b[39;00m \u001b[38;5;28;01mas\u001b[39;00m err:\n\u001b[1;32m   5200\u001b[0m     \u001b[38;5;28;01mif\u001b[39;00m \u001b[38;5;28mself\u001b[39m\u001b[38;5;241m.\u001b[39m_skip_invalid:\n",
      "File \u001b[0;32m/opt/anaconda3/lib/python3.11/site-packages/_plotly_utils/basevalidators.py:1375\u001b[0m, in \u001b[0;36mColorValidator.validate_coerce\u001b[0;34m(self, v, should_raise)\u001b[0m\n\u001b[1;32m   1373\u001b[0m     validated_v \u001b[38;5;241m=\u001b[39m \u001b[38;5;28mself\u001b[39m\u001b[38;5;241m.\u001b[39mvc_scalar(v)\n\u001b[1;32m   1374\u001b[0m     \u001b[38;5;28;01mif\u001b[39;00m validated_v \u001b[38;5;129;01mis\u001b[39;00m \u001b[38;5;28;01mNone\u001b[39;00m \u001b[38;5;129;01mand\u001b[39;00m should_raise:\n\u001b[0;32m-> 1375\u001b[0m         \u001b[38;5;28mself\u001b[39m\u001b[38;5;241m.\u001b[39mraise_invalid_val(v)\n\u001b[1;32m   1377\u001b[0m     v \u001b[38;5;241m=\u001b[39m validated_v\n\u001b[1;32m   1379\u001b[0m \u001b[38;5;28;01mreturn\u001b[39;00m v\n",
      "File \u001b[0;32m/opt/anaconda3/lib/python3.11/site-packages/_plotly_utils/basevalidators.py:288\u001b[0m, in \u001b[0;36mBaseValidator.raise_invalid_val\u001b[0;34m(self, v, inds)\u001b[0m\n\u001b[1;32m    285\u001b[0m             \u001b[38;5;28;01mfor\u001b[39;00m i \u001b[38;5;129;01min\u001b[39;00m inds:\n\u001b[1;32m    286\u001b[0m                 name \u001b[38;5;241m+\u001b[39m\u001b[38;5;241m=\u001b[39m \u001b[38;5;124m\"\u001b[39m\u001b[38;5;124m[\u001b[39m\u001b[38;5;124m\"\u001b[39m \u001b[38;5;241m+\u001b[39m \u001b[38;5;28mstr\u001b[39m(i) \u001b[38;5;241m+\u001b[39m \u001b[38;5;124m\"\u001b[39m\u001b[38;5;124m]\u001b[39m\u001b[38;5;124m\"\u001b[39m\n\u001b[0;32m--> 288\u001b[0m         \u001b[38;5;28;01mraise\u001b[39;00m \u001b[38;5;167;01mValueError\u001b[39;00m(\n\u001b[1;32m    289\u001b[0m \u001b[38;5;250m            \u001b[39m\u001b[38;5;124;03m\"\"\"\u001b[39;00m\n\u001b[1;32m    290\u001b[0m \u001b[38;5;124;03m    Invalid value of type {typ} received for the '{name}' property of {pname}\u001b[39;00m\n\u001b[1;32m    291\u001b[0m \u001b[38;5;124;03m        Received value: {v}\u001b[39;00m\n\u001b[1;32m    292\u001b[0m \n\u001b[1;32m    293\u001b[0m \u001b[38;5;124;03m{valid_clr_desc}\"\"\"\u001b[39;00m\u001b[38;5;241m.\u001b[39mformat(\n\u001b[1;32m    294\u001b[0m                 name\u001b[38;5;241m=\u001b[39mname,\n\u001b[1;32m    295\u001b[0m                 pname\u001b[38;5;241m=\u001b[39m\u001b[38;5;28mself\u001b[39m\u001b[38;5;241m.\u001b[39mparent_name,\n\u001b[1;32m    296\u001b[0m                 typ\u001b[38;5;241m=\u001b[39mtype_str(v),\n\u001b[1;32m    297\u001b[0m                 v\u001b[38;5;241m=\u001b[39m\u001b[38;5;28mrepr\u001b[39m(v),\n\u001b[1;32m    298\u001b[0m                 valid_clr_desc\u001b[38;5;241m=\u001b[39m\u001b[38;5;28mself\u001b[39m\u001b[38;5;241m.\u001b[39mdescription(),\n\u001b[1;32m    299\u001b[0m             )\n\u001b[1;32m    300\u001b[0m         )\n",
      "\u001b[0;31mValueError\u001b[0m: \n    Invalid value of type 'builtins.str' received for the 'plot_bgcolor' property of layout\n        Received value: 'y'\n\n    The 'plot_bgcolor' property is a color and may be specified as:\n      - A hex string (e.g. '#ff0000')\n      - An rgb/rgba string (e.g. 'rgb(255,0,0)')\n      - An hsl/hsla string (e.g. 'hsl(0,100%,50%)')\n      - An hsv/hsva string (e.g. 'hsv(0,100%,100%)')\n      - A named CSS color:\n            aliceblue, antiquewhite, aqua, aquamarine, azure,\n            beige, bisque, black, blanchedalmond, blue,\n            blueviolet, brown, burlywood, cadetblue,\n            chartreuse, chocolate, coral, cornflowerblue,\n            cornsilk, crimson, cyan, darkblue, darkcyan,\n            darkgoldenrod, darkgray, darkgrey, darkgreen,\n            darkkhaki, darkmagenta, darkolivegreen, darkorange,\n            darkorchid, darkred, darksalmon, darkseagreen,\n            darkslateblue, darkslategray, darkslategrey,\n            darkturquoise, darkviolet, deeppink, deepskyblue,\n            dimgray, dimgrey, dodgerblue, firebrick,\n            floralwhite, forestgreen, fuchsia, gainsboro,\n            ghostwhite, gold, goldenrod, gray, grey, green,\n            greenyellow, honeydew, hotpink, indianred, indigo,\n            ivory, khaki, lavender, lavenderblush, lawngreen,\n            lemonchiffon, lightblue, lightcoral, lightcyan,\n            lightgoldenrodyellow, lightgray, lightgrey,\n            lightgreen, lightpink, lightsalmon, lightseagreen,\n            lightskyblue, lightslategray, lightslategrey,\n            lightsteelblue, lightyellow, lime, limegreen,\n            linen, magenta, maroon, mediumaquamarine,\n            mediumblue, mediumorchid, mediumpurple,\n            mediumseagreen, mediumslateblue, mediumspringgreen,\n            mediumturquoise, mediumvioletred, midnightblue,\n            mintcream, mistyrose, moccasin, navajowhite, navy,\n            oldlace, olive, olivedrab, orange, orangered,\n            orchid, palegoldenrod, palegreen, paleturquoise,\n            palevioletred, papayawhip, peachpuff, peru, pink,\n            plum, powderblue, purple, red, rosybrown,\n            royalblue, rebeccapurple, saddlebrown, salmon,\n            sandybrown, seagreen, seashell, sienna, silver,\n            skyblue, slateblue, slategray, slategrey, snow,\n            springgreen, steelblue, tan, teal, thistle, tomato,\n            turquoise, violet, wheat, white, whitesmoke,\n            yellow, yellowgreen"
     ]
    }
   ],
   "source": [
    "FP1_values, FP1_fig = one_angle_plotly(fp1_filtered, FP1_ang_cols, fp_1time, k_Heel_contact_1, k_Toe_off_1, k_Heel_contact_2, k_Toe_off_2)\n",
    "FP2_values, FP2_fig = one_angle_plotly(fp2_filtered, FP2_ang_cols, fp_2time, k_Heel_contact_1, k_Toe_off_1, k_Heel_contact_2, k_Toe_off_2)\n",
    "\n",
    "force1_ap_fig, force1_ap_values = grf_plotly(fp1_filtered, ap1_cols, fp_1time, k_Heel_contact_1, k_Toe_off_1, k_Heel_contact_2, k_Toe_off_2, axis='ap')\n",
    "force1_vt_fig, force1_vt_values = grf_plotly(fp1_filtered, vt1_cols, fp_1time, k_Heel_contact_1, k_Toe_off_1, k_Heel_contact_2, k_Toe_off_2, axis='vt')\n",
    "\n",
    "force2_ap_fig, force2_ap_values = grf_plotly(fp2_filtered, ap2_cols, fp_2time, k_Heel_contact_1, k_Toe_off_1, k_Heel_contact_2, k_Toe_off_2, axis='ap')\n",
    "force2_vt_fig, force2_vt_values = grf_plotly(fp2_filtered, vt2_cols, fp_2time, k_Heel_contact_1, k_Toe_off_1, k_Heel_contact_2, k_Toe_off_2, axis='vt')\n"
   ]
  },
  {
   "cell_type": "code",
   "execution_count": null,
   "metadata": {},
   "outputs": [],
   "source": [
    "force1_ap_fig.update_layout(\n",
    "    width=800,  # Set the width to your preference\n",
    "    height=400  # Set the height to your preference\n",
    ")\n",
    "force1_vt_fig.update_layout(\n",
    "    width=800,  # Set the width to your preference\n",
    "    height=400  # Set the height to your preference\n",
    ")\n",
    "\n",
    "force2_ap_fig.update_layout(\n",
    "    width=800,  # Set the width to your preference\n",
    "    height=400  # Set the height to your preference\n",
    ")\n",
    "force2_vt_fig.update_layout(\n",
    "    width=800,  # Set the width to your preference\n",
    "    height=400  # Set the height to your preference\n",
    ")\n",
    "\n",
    "for col in FP1_fig:\n",
    "    fig = FP1_fig[col]\n",
    "    fig.update_layout(\n",
    "        width=500,  # Desired width\n",
    "        height=400,  # Desired height\n",
    "        autosize=False  # Disable autosizing to enforce provided dimensions\n",
    "    )\n",
    "\n",
    "for col in FP2_fig:\n",
    "    fig = FP2_fig[col]\n",
    "    fig.update_layout(\n",
    "        width=500,  # Desired width\n",
    "        height=400,  # Desired height\n",
    "        autosize=False  # Disable autosizing to enforce provided dimensions\n",
    "    )"
   ]
  },
  {
   "cell_type": "code",
   "execution_count": 31,
   "metadata": {},
   "outputs": [
    {
     "data": {
      "text/plain": [
       "DeltaGenerator()"
      ]
     },
     "execution_count": 31,
     "metadata": {},
     "output_type": "execute_result"
    }
   ],
   "source": [
    "st.title('KUM GAIT REPORT')\n",
    "\n",
    "st.header('분석 구간')\n",
    "st.image('image/analysis.png', use_column_width=True)\n",
    "\n",
    "st.subheader('KINEMATICS PARAMETERS')"
   ]
  },
  {
   "cell_type": "code",
   "execution_count": 32,
   "metadata": {},
   "outputs": [],
   "source": [
    "# kine\n",
    "for col_1, col_2 in zip(FP1_ang_cols, FP2_ang_cols):\n",
    "    # Create two columns with equal width\n",
    "    col1, col2 = st.columns([1, 1])\n",
    "    with col1:\n",
    "        # Render the FP1_fig graph in the left column\n",
    "        st.plotly_chart(FP1_fig[col_1], use_container_width=True)\n",
    "    with col2:\n",
    "        # Render the FP2_fig graph in the right column\n",
    "        st.plotly_chart(FP2_fig[col_2], use_container_width=True)"
   ]
  },
  {
   "cell_type": "code",
   "execution_count": 33,
   "metadata": {},
   "outputs": [
    {
     "ename": "PlotlyKeyError",
     "evalue": "FP1\nBad property path:\nFP1_FORCE_Y\n^^^",
     "output_type": "error",
     "traceback": [
      "\u001b[0;31m---------------------------------------------------------------------------\u001b[0m",
      "\u001b[0;31mPlotlyKeyError\u001b[0m                            Traceback (most recent call last)",
      "Cell \u001b[0;32mIn[33], line 8\u001b[0m\n\u001b[1;32m      6\u001b[0m col1, col2 \u001b[38;5;241m=\u001b[39m st\u001b[38;5;241m.\u001b[39mcolumns([\u001b[38;5;241m1\u001b[39m, \u001b[38;5;241m1\u001b[39m])\n\u001b[1;32m      7\u001b[0m \u001b[38;5;28;01mwith\u001b[39;00m col1:\n\u001b[0;32m----> 8\u001b[0m     st\u001b[38;5;241m.\u001b[39mplotly_chart(force1_ap_fig[col_1], use_container_width\u001b[38;5;241m=\u001b[39m\u001b[38;5;28;01mTrue\u001b[39;00m)\n\u001b[1;32m      9\u001b[0m \u001b[38;5;28;01mwith\u001b[39;00m col2:\n\u001b[1;32m     10\u001b[0m     st\u001b[38;5;241m.\u001b[39mplotly_chart(force2_ap_fig[col_2], use_container_width\u001b[38;5;241m=\u001b[39m\u001b[38;5;28;01mTrue\u001b[39;00m)\n",
      "File \u001b[0;32m/opt/anaconda3/lib/python3.11/site-packages/plotly/basedatatypes.py:754\u001b[0m, in \u001b[0;36mBaseFigure.__getitem__\u001b[0;34m(self, prop)\u001b[0m\n\u001b[1;32m    752\u001b[0m err \u001b[38;5;241m=\u001b[39m _check_path_in_prop_tree(\u001b[38;5;28mself\u001b[39m, orig_prop, error_cast\u001b[38;5;241m=\u001b[39mPlotlyKeyError)\n\u001b[1;32m    753\u001b[0m \u001b[38;5;28;01mif\u001b[39;00m err \u001b[38;5;129;01mis\u001b[39;00m \u001b[38;5;129;01mnot\u001b[39;00m \u001b[38;5;28;01mNone\u001b[39;00m:\n\u001b[0;32m--> 754\u001b[0m     \u001b[38;5;28;01mraise\u001b[39;00m err\n\u001b[1;32m    755\u001b[0m res \u001b[38;5;241m=\u001b[39m \u001b[38;5;28mself\u001b[39m\n\u001b[1;32m    756\u001b[0m \u001b[38;5;28;01mfor\u001b[39;00m p \u001b[38;5;129;01min\u001b[39;00m prop:\n",
      "\u001b[0;31mPlotlyKeyError\u001b[0m: FP1\nBad property path:\nFP1_FORCE_Y\n^^^"
     ]
    }
   ],
   "source": [
    "# force\n",
    "st.subheader('KINETICS PARAMETERS')\n",
    "\n",
    "st.write(\"GROUND REACTION FORCE AP\")\n",
    "for col_1, col_2 in zip(ap1_cols, ap2_cols):\n",
    "    col1, col2 = st.columns([1, 1])\n",
    "    with col1:\n",
    "        st.plotly_chart(force1_ap_fig[col_1], use_container_width=True)\n",
    "    with col2:\n",
    "        st.plotly_chart(force2_ap_fig[col_2], use_container_width=True)\n",
    "\n",
    "st.write(\"GROUND REACTION FORCE VERTICAL\")\n",
    "for col_1, col_2 in zip(vt1_cols, vt2_cols):\n",
    "    col1, col2 = st.columns([1, 1])\n",
    "    with col1:\n",
    "        st.plotly_chart(force1_vt_fig[col_1], use_container_width=True)\n",
    "    with col2:\n",
    "        st.plotly_chart(force2_vt_fig[col_2], use_container_width=True)"
   ]
  },
  {
   "cell_type": "code",
   "execution_count": 34,
   "metadata": {},
   "outputs": [],
   "source": [
    "st.subheader('KINETICS PARAMETERS')\n",
    "\n",
    "# Display the first set of plots\n",
    "st.write(\"GROUND REACTION FORCE AP\")\n",
    "col1, col2 = st.columns([1, 1])  # Define columns for the first set of charts\n",
    "with col1:\n",
    "    st.plotly_chart(force1_ap_fig, use_container_width=True)\n",
    "with col2:\n",
    "    st.plotly_chart(force2_ap_fig, use_container_width=True)\n",
    "\n",
    "# Display the second set of plots\n",
    "st.write(\"GROUND REACTION FORCE VERTICAL\")\n",
    "col1, col2 = st.columns([1, 1])  # Re-define columns for the second set of charts\n",
    "with col1:\n",
    "    st.plotly_chart(force1_vt_fig, use_container_width=True)\n",
    "with col2:\n",
    "    st.plotly_chart(force2_vt_fig, use_container_width=True)"
   ]
  },
  {
   "cell_type": "code",
   "execution_count": 35,
   "metadata": {},
   "outputs": [
    {
     "data": {
      "application/vnd.plotly.v1+json": {
       "config": {
        "plotlyServerURL": "https://plot.ly"
       },
       "data": [
        {
         "line": {
          "color": "red"
         },
         "mode": "lines",
         "name": "Stride Leg",
         "type": "scatter",
         "x": [
          0,
          0.017,
          0.033,
          0.05,
          0.067,
          0.083,
          0.1,
          0.117,
          0.133,
          0.15,
          0.167,
          0.183,
          0.2,
          0.217,
          0.233,
          0.25,
          0.267,
          0.283,
          0.3,
          0.317,
          0.333,
          0.35,
          0.367,
          0.383,
          0.4,
          0.417,
          0.433,
          0.45,
          0.467,
          0.483,
          0.5,
          0.517,
          0.533,
          0.55,
          0.567,
          0.583,
          0.6,
          0.617,
          0.633,
          0.65,
          0.667,
          0.683,
          0.7,
          0.717,
          0.733,
          0.75,
          0.767,
          0.783,
          0.8,
          0.817,
          0.833,
          0.85,
          0.867,
          0.883,
          0.9,
          0.917,
          0.933,
          0.95,
          0.967,
          0.983,
          1,
          1.017,
          1.033,
          1.05,
          1.067,
          1.083,
          1.1,
          1.117,
          1.133,
          1.15,
          1.167,
          1.183,
          1.2,
          1.217,
          1.233,
          1.25,
          1.267,
          1.283,
          1.3,
          1.317,
          1.333,
          1.35,
          1.367,
          1.383,
          1.4,
          1.417,
          1.433,
          1.45,
          1.467,
          1.483,
          1.5,
          1.517,
          1.533,
          1.55,
          1.567,
          1.583,
          1.6,
          1.617,
          1.633,
          1.65,
          1.667
         ],
         "y": [
          9.792614389788604,
          31.129156019571617,
          46.212864244551525,
          48.020098280950656,
          46.90513129724841,
          48.47021179868567,
          49.99556001577255,
          50.35931984751147,
          51.134703176692675,
          53.38533111927149,
          57.29247881949679,
          62.86041445368614,
          69.52821055686243,
          75.96383620863477,
          81.17163995694543,
          85.5336388277903,
          89.87348234025843,
          94.00729688922782,
          97.12287866042952,
          98.97456489075482,
          99.91817037486014,
          100.32291110140444,
          100.4056324968725,
          100.28384919321108,
          99.88633322441277,
          99.02437809858829,
          97.68074620330334,
          96.01447655021306,
          94.20815326114804,
          92.32815649247912,
          90.35812384578875,
          88.34584908075135,
          86.36680386115509,
          84.42894504810242,
          82.51176410659976,
          80.62927242191164,
          78.82756714040138,
          77.18938741301169,
          75.85024631594513,
          74.9162649949007,
          74.34997579132848,
          73.99790317033668,
          73.7265596844118,
          73.51375811220394,
          73.38178367593062,
          73.32236088422097,
          73.36507108886238,
          73.57050698471971,
          73.95641651254267,
          74.46969099284726,
          75.05681084007851,
          75.71925746804843,
          76.42308420327512,
          77.0998899401218,
          77.76255766623045,
          78.51794837668693,
          79.40436537170217,
          80.35376883185174,
          81.31519687576036,
          82.25110472264183,
          83.14100922201082,
          84.06796310172639,
          85.27616925643228,
          86.96842048444545,
          89.00896207584347,
          91.1025522870159,
          93.16878166969644,
          95.28498534278158,
          97.45005170604338,
          99.57396046671474,
          101.61611389416964,
          103.58511115274077,
          105.43256996329684,
          107.1320580001637,
          108.72569725494628,
          110.2216195617413,
          111.53302013701096,
          112.55809178541227,
          113.23229836582358,
          113.48234653217048,
          113.25425989693896,
          112.57855480796763,
          111.44637093681924,
          109.81560507343566,
          107.68365420695532,
          105.0656358082516,
          101.99981301689527,
          98.50395032783427,
          94.4649840938339,
          89.60454907220678,
          83.86435913422521,
          77.38284055616447,
          70.09837205310767,
          61.842911522921995,
          52.658378420376614,
          42.97918444814689,
          33.49268759072721,
          25.089983879211715,
          18.569090193469183,
          13.886253758693613,
          10.27593866024294
         ]
        },
        {
         "line": {
          "color": "black",
          "dash": "dash",
          "width": 2
         },
         "mode": "lines",
         "showlegend": false,
         "type": "scatter",
         "x": [
          [
           0
          ],
          [
           0
          ]
         ],
         "y": [
          9.792614389788604,
          113.48234653217048
         ]
        },
        {
         "line": {
          "color": "black",
          "dash": "dash",
          "width": 2
         },
         "mode": "lines",
         "showlegend": false,
         "type": "scatter",
         "x": [
          [
           1.667
          ],
          [
           1.667
          ]
         ],
         "y": [
          9.792614389788604,
          113.48234653217048
         ]
        },
        {
         "line": {
          "color": "black",
          "dash": "dash",
          "width": 2
         },
         "mode": "lines",
         "showlegend": false,
         "type": "scatter",
         "x": [
          [
           0
          ],
          [
           0
          ]
         ],
         "y": [
          9.792614389788604,
          113.48234653217048
         ]
        },
        {
         "line": {
          "color": "black",
          "dash": "dash",
          "width": 2
         },
         "mode": "lines",
         "showlegend": false,
         "type": "scatter",
         "x": [
          [
           1.667
          ],
          [
           1.667
          ]
         ],
         "y": [
          9.792614389788604,
          113.48234653217048
         ]
        }
       ],
       "layout": {
        "annotations": [
         {
          "bgcolor": "rgba(0,0,0,0)",
          "bordercolor": "rgba(0,0,0,0)",
          "borderwidth": 0,
          "showarrow": false,
          "text": "HC1",
          "textangle": -90,
          "x": [
           0
          ],
          "xref": "x",
          "y": 0.95,
          "yref": "paper"
         },
         {
          "bgcolor": "rgba(0,0,0,0)",
          "bordercolor": "rgba(0,0,0,0)",
          "borderwidth": 0,
          "showarrow": false,
          "text": "TO1",
          "textangle": -90,
          "x": [
           1.667
          ],
          "xref": "x",
          "y": 0.95,
          "yref": "paper"
         },
         {
          "bgcolor": "rgba(0,0,0,0)",
          "bordercolor": "rgba(0,0,0,0)",
          "borderwidth": 0,
          "showarrow": false,
          "text": "HC2",
          "textangle": -90,
          "x": [
           0
          ],
          "xref": "x",
          "y": 0.95,
          "yref": "paper"
         },
         {
          "bgcolor": "rgba(0,0,0,0)",
          "bordercolor": "rgba(0,0,0,0)",
          "borderwidth": 0,
          "showarrow": false,
          "text": "TO2",
          "textangle": -90,
          "x": [
           1.667
          ],
          "xref": "x",
          "y": 0.95,
          "yref": "paper"
         }
        ],
        "height": 400,
        "hovermode": "closest",
        "legend": {
         "bgcolor": "rgb(43,48,61)",
         "x": 1,
         "xanchor": "right",
         "y": 1,
         "yanchor": "top"
        },
        "margin": {
         "b": 40,
         "l": 40,
         "r": 40,
         "t": 40
        },
        "plot_bgcolor": "rgb(43,48,61)",
        "showlegend": true,
        "template": {
         "data": {
          "candlestick": [
           {
            "decreasing": {
             "line": {
              "color": "#000033"
             }
            },
            "increasing": {
             "line": {
              "color": "#000032"
             }
            },
            "type": "candlestick"
           }
          ],
          "contour": [
           {
            "colorscale": [
             [
              0,
              "#000011"
             ],
             [
              0.1111111111111111,
              "#000012"
             ],
             [
              0.2222222222222222,
              "#000013"
             ],
             [
              0.3333333333333333,
              "#000014"
             ],
             [
              0.4444444444444444,
              "#000015"
             ],
             [
              0.5555555555555556,
              "#000016"
             ],
             [
              0.6666666666666666,
              "#000017"
             ],
             [
              0.7777777777777778,
              "#000018"
             ],
             [
              0.8888888888888888,
              "#000019"
             ],
             [
              1,
              "#000020"
             ]
            ],
            "type": "contour"
           }
          ],
          "contourcarpet": [
           {
            "colorscale": [
             [
              0,
              "#000011"
             ],
             [
              0.1111111111111111,
              "#000012"
             ],
             [
              0.2222222222222222,
              "#000013"
             ],
             [
              0.3333333333333333,
              "#000014"
             ],
             [
              0.4444444444444444,
              "#000015"
             ],
             [
              0.5555555555555556,
              "#000016"
             ],
             [
              0.6666666666666666,
              "#000017"
             ],
             [
              0.7777777777777778,
              "#000018"
             ],
             [
              0.8888888888888888,
              "#000019"
             ],
             [
              1,
              "#000020"
             ]
            ],
            "type": "contourcarpet"
           }
          ],
          "heatmap": [
           {
            "colorscale": [
             [
              0,
              "#000011"
             ],
             [
              0.1111111111111111,
              "#000012"
             ],
             [
              0.2222222222222222,
              "#000013"
             ],
             [
              0.3333333333333333,
              "#000014"
             ],
             [
              0.4444444444444444,
              "#000015"
             ],
             [
              0.5555555555555556,
              "#000016"
             ],
             [
              0.6666666666666666,
              "#000017"
             ],
             [
              0.7777777777777778,
              "#000018"
             ],
             [
              0.8888888888888888,
              "#000019"
             ],
             [
              1,
              "#000020"
             ]
            ],
            "type": "heatmap"
           }
          ],
          "histogram2d": [
           {
            "colorscale": [
             [
              0,
              "#000011"
             ],
             [
              0.1111111111111111,
              "#000012"
             ],
             [
              0.2222222222222222,
              "#000013"
             ],
             [
              0.3333333333333333,
              "#000014"
             ],
             [
              0.4444444444444444,
              "#000015"
             ],
             [
              0.5555555555555556,
              "#000016"
             ],
             [
              0.6666666666666666,
              "#000017"
             ],
             [
              0.7777777777777778,
              "#000018"
             ],
             [
              0.8888888888888888,
              "#000019"
             ],
             [
              1,
              "#000020"
             ]
            ],
            "type": "histogram2d"
           }
          ],
          "icicle": [
           {
            "textfont": {
             "color": "white"
            },
            "type": "icicle"
           }
          ],
          "sankey": [
           {
            "textfont": {
             "color": "#000036"
            },
            "type": "sankey"
           }
          ],
          "scatter": [
           {
            "marker": {
             "line": {
              "width": 0
             }
            },
            "type": "scatter"
           }
          ],
          "table": [
           {
            "cells": {
             "fill": {
              "color": "#000038"
             },
             "font": {
              "color": "#000037"
             },
             "line": {
              "color": "#000039"
             }
            },
            "header": {
             "fill": {
              "color": "#000040"
             },
             "font": {
              "color": "#000036"
             },
             "line": {
              "color": "#000039"
             }
            },
            "type": "table"
           }
          ],
          "waterfall": [
           {
            "connector": {
             "line": {
              "color": "#000036",
              "width": 2
             }
            },
            "decreasing": {
             "marker": {
              "color": "#000033"
             }
            },
            "increasing": {
             "marker": {
              "color": "#000032"
             }
            },
            "totals": {
             "marker": {
              "color": "#000034"
             }
            },
            "type": "waterfall"
           }
          ]
         },
         "layout": {
          "coloraxis": {
           "colorscale": [
            [
             0,
             "#000011"
            ],
            [
             0.1111111111111111,
             "#000012"
            ],
            [
             0.2222222222222222,
             "#000013"
            ],
            [
             0.3333333333333333,
             "#000014"
            ],
            [
             0.4444444444444444,
             "#000015"
            ],
            [
             0.5555555555555556,
             "#000016"
            ],
            [
             0.6666666666666666,
             "#000017"
            ],
            [
             0.7777777777777778,
             "#000018"
            ],
            [
             0.8888888888888888,
             "#000019"
            ],
            [
             1,
             "#000020"
            ]
           ]
          },
          "colorscale": {
           "diverging": [
            [
             0,
             "#000021"
            ],
            [
             0.1,
             "#000022"
            ],
            [
             0.2,
             "#000023"
            ],
            [
             0.3,
             "#000024"
            ],
            [
             0.4,
             "#000025"
            ],
            [
             0.5,
             "#000026"
            ],
            [
             0.6,
             "#000027"
            ],
            [
             0.7,
             "#000028"
            ],
            [
             0.8,
             "#000029"
            ],
            [
             0.9,
             "#000030"
            ],
            [
             1,
             "#000031"
            ]
           ],
           "sequential": [
            [
             0,
             "#000011"
            ],
            [
             0.1111111111111111,
             "#000012"
            ],
            [
             0.2222222222222222,
             "#000013"
            ],
            [
             0.3333333333333333,
             "#000014"
            ],
            [
             0.4444444444444444,
             "#000015"
            ],
            [
             0.5555555555555556,
             "#000016"
            ],
            [
             0.6666666666666666,
             "#000017"
            ],
            [
             0.7777777777777778,
             "#000018"
            ],
            [
             0.8888888888888888,
             "#000019"
            ],
            [
             1,
             "#000020"
            ]
           ],
           "sequentialminus": [
            [
             0,
             "#000011"
            ],
            [
             0.1111111111111111,
             "#000012"
            ],
            [
             0.2222222222222222,
             "#000013"
            ],
            [
             0.3333333333333333,
             "#000014"
            ],
            [
             0.4444444444444444,
             "#000015"
            ],
            [
             0.5555555555555556,
             "#000016"
            ],
            [
             0.6666666666666666,
             "#000017"
            ],
            [
             0.7777777777777778,
             "#000018"
            ],
            [
             0.8888888888888888,
             "#000019"
            ],
            [
             1,
             "#000020"
            ]
           ]
          },
          "colorway": [
           "#000001",
           "#000002",
           "#000003",
           "#000004",
           "#000005",
           "#000006",
           "#000007",
           "#000008",
           "#000009",
           "#000010"
          ]
         }
        },
        "title": {
         "text": "GROUND REACTION FORCE (Vertical)"
        },
        "width": 800,
        "xaxis": {
         "showgrid": false,
         "title": {
          "text": "Time [s]"
         }
        },
        "yaxis": {
         "gridcolor": "lightgrey",
         "gridwidth": 1,
         "showgrid": true,
         "title": {
          "text": "Force [% BW]"
         },
         "zeroline": false
        }
       }
      }
     },
     "metadata": {},
     "output_type": "display_data"
    }
   ],
   "source": [
    "force1_vt_fig"
   ]
  },
  {
   "cell_type": "code",
   "execution_count": 27,
   "metadata": {},
   "outputs": [
    {
     "data": {
      "application/vnd.plotly.v1+json": {
       "config": {
        "plotlyServerURL": "https://plot.ly"
       },
       "data": [
        {
         "line": {
          "color": "red"
         },
         "mode": "lines",
         "name": "Stride Leg",
         "type": "scatter",
         "x": [
          0,
          0.017,
          0.033,
          0.05,
          0.067,
          0.083,
          0.1,
          0.117,
          0.133,
          0.15,
          0.167,
          0.183,
          0.2,
          0.217,
          0.233,
          0.25,
          0.267,
          0.283,
          0.3,
          0.317,
          0.333,
          0.35,
          0.367,
          0.383,
          0.4,
          0.417,
          0.433,
          0.45,
          0.467,
          0.483,
          0.5,
          0.517,
          0.533,
          0.55,
          0.567,
          0.583,
          0.6,
          0.617,
          0.633,
          0.65,
          0.667,
          0.683,
          0.7,
          0.717,
          0.733,
          0.75,
          0.767,
          0.783,
          0.8,
          0.817,
          0.833,
          0.85,
          0.867,
          0.883,
          0.9,
          0.917,
          0.933,
          0.95,
          0.967,
          0.983,
          1,
          1.017,
          1.033,
          1.05,
          1.067,
          1.083,
          1.1,
          1.117,
          1.133,
          1.15,
          1.167,
          1.183,
          1.2,
          1.217,
          1.233,
          1.25,
          1.267,
          1.283,
          1.3,
          1.317,
          1.333,
          1.35,
          1.367,
          1.383,
          1.4,
          1.417,
          1.433,
          1.45,
          1.467,
          1.483,
          1.5,
          1.517,
          1.533,
          1.55,
          1.567,
          1.583,
          1.6,
          1.617,
          1.633,
          1.65,
          1.667
         ],
         "y": [
          8.798590240854303,
          28.045716767050862,
          39.70280024663701,
          39.87730445242957,
          39.53799693854071,
          43.036823747738225,
          47.500951770795034,
          50.88773592691577,
          52.768100713411464,
          53.87750515428846,
          55.90765571750392,
          59.80313695261752,
          64.81999548077204,
          69.73663011265279,
          74.19574711341578,
          78.37789061867286,
          82.28692881929727,
          85.79831580457078,
          88.74390395211908,
          90.91713362038156,
          92.26109665166965,
          92.88735939402568,
          93.00959840192898,
          92.9598547967026,
          92.99158031330244,
          93.02875985128436,
          92.66385548339596,
          91.59363404945894,
          89.97909397291906,
          88.1353054733901,
          86.18627678114316,
          84.13945304270494,
          82.02598900424896,
          79.87607965257172,
          77.72143693473527,
          75.66108402882674,
          73.80097198577374,
          72.16559114666528,
          70.72655174816272,
          69.479196854166,
          68.48317336009079,
          67.80252626515414,
          67.4199522337939,
          67.24991544044555,
          67.22666637390826,
          67.33550165420712,
          67.57133071832146,
          67.89907094517686,
          68.25467357805087,
          68.60027735979013,
          68.96852933119457,
          69.42494575414946,
          70.01485071460954,
          70.76810470482825,
          71.69244039621705,
          72.76233687435357,
          73.9310666221125,
          75.14745352589411,
          76.40412958400323,
          77.76346424608953,
          79.27343953586148,
          80.8922500640749,
          82.54236962740671,
          84.20885926790831,
          85.90687800679177,
          87.60302790719908,
          89.29577602578931,
          90.98266650343754,
          92.3780019272753,
          93.05612760892598,
          93.10430759380088,
          93.00573592033444,
          92.99418132913888,
          93.01696975687844,
          93.01614721411217,
          93.0040003510628,
          92.99872422015224,
          92.99787749101624,
          92.99340109946736,
          92.98475472174644,
          92.98247671534482,
          92.99202230755544,
          92.9838018263663,
          92.93226609443796,
          92.932150800743,
          93.08611418167705,
          93.0037260447577,
          91.77755180764156,
          89.07125939706695,
          85.51793710269791,
          81.55275253120348,
          76.77701327122121,
          70.84555481081297,
          63.94982244725578,
          56.05892616960169,
          47.0545534232948,
          37.5215458849417,
          28.543151184666375,
          20.971207793930738,
          15.10605387048876,
          10.4598374991037
         ]
        },
        {
         "line": {
          "color": "black",
          "dash": "dash",
          "width": 2
         },
         "mode": "lines",
         "showlegend": false,
         "type": "scatter",
         "x": [
          [
           0
          ],
          [
           0
          ]
         ],
         "y": [
          8.798590240854303,
          93.10430759380088
         ]
        },
        {
         "line": {
          "color": "black",
          "dash": "dash",
          "width": 2
         },
         "mode": "lines",
         "showlegend": false,
         "type": "scatter",
         "x": [
          [
           1.667
          ],
          [
           1.667
          ]
         ],
         "y": [
          8.798590240854303,
          93.10430759380088
         ]
        },
        {
         "line": {
          "color": "black",
          "dash": "dash",
          "width": 2
         },
         "mode": "lines",
         "showlegend": false,
         "type": "scatter",
         "x": [
          [
           0
          ],
          [
           0
          ]
         ],
         "y": [
          8.798590240854303,
          93.10430759380088
         ]
        },
        {
         "line": {
          "color": "black",
          "dash": "dash",
          "width": 2
         },
         "mode": "lines",
         "showlegend": false,
         "type": "scatter",
         "x": [
          [
           1.667
          ],
          [
           1.667
          ]
         ],
         "y": [
          8.798590240854303,
          93.10430759380088
         ]
        }
       ],
       "layout": {
        "annotations": [
         {
          "bgcolor": "rgba(0,0,0,0)",
          "bordercolor": "rgba(0,0,0,0)",
          "borderwidth": 0,
          "showarrow": false,
          "text": "HC1",
          "textangle": -90,
          "x": [
           0
          ],
          "xref": "x",
          "y": 0.95,
          "yref": "paper"
         },
         {
          "bgcolor": "rgba(0,0,0,0)",
          "bordercolor": "rgba(0,0,0,0)",
          "borderwidth": 0,
          "showarrow": false,
          "text": "TO1",
          "textangle": -90,
          "x": [
           1.667
          ],
          "xref": "x",
          "y": 0.95,
          "yref": "paper"
         },
         {
          "bgcolor": "rgba(0,0,0,0)",
          "bordercolor": "rgba(0,0,0,0)",
          "borderwidth": 0,
          "showarrow": false,
          "text": "HC2",
          "textangle": -90,
          "x": [
           0
          ],
          "xref": "x",
          "y": 0.95,
          "yref": "paper"
         },
         {
          "bgcolor": "rgba(0,0,0,0)",
          "bordercolor": "rgba(0,0,0,0)",
          "borderwidth": 0,
          "showarrow": false,
          "text": "TO2",
          "textangle": -90,
          "x": [
           1.667
          ],
          "xref": "x",
          "y": 0.95,
          "yref": "paper"
         }
        ],
        "height": 400,
        "hovermode": "closest",
        "legend": {
         "bgcolor": "rgb(43,48,61)",
         "x": 1,
         "xanchor": "right",
         "y": 1,
         "yanchor": "top"
        },
        "margin": {
         "b": 40,
         "l": 40,
         "r": 40,
         "t": 40
        },
        "plot_bgcolor": "rgb(43,48,61)",
        "showlegend": true,
        "template": {
         "data": {
          "candlestick": [
           {
            "decreasing": {
             "line": {
              "color": "#000033"
             }
            },
            "increasing": {
             "line": {
              "color": "#000032"
             }
            },
            "type": "candlestick"
           }
          ],
          "contour": [
           {
            "colorscale": [
             [
              0,
              "#000011"
             ],
             [
              0.1111111111111111,
              "#000012"
             ],
             [
              0.2222222222222222,
              "#000013"
             ],
             [
              0.3333333333333333,
              "#000014"
             ],
             [
              0.4444444444444444,
              "#000015"
             ],
             [
              0.5555555555555556,
              "#000016"
             ],
             [
              0.6666666666666666,
              "#000017"
             ],
             [
              0.7777777777777778,
              "#000018"
             ],
             [
              0.8888888888888888,
              "#000019"
             ],
             [
              1,
              "#000020"
             ]
            ],
            "type": "contour"
           }
          ],
          "contourcarpet": [
           {
            "colorscale": [
             [
              0,
              "#000011"
             ],
             [
              0.1111111111111111,
              "#000012"
             ],
             [
              0.2222222222222222,
              "#000013"
             ],
             [
              0.3333333333333333,
              "#000014"
             ],
             [
              0.4444444444444444,
              "#000015"
             ],
             [
              0.5555555555555556,
              "#000016"
             ],
             [
              0.6666666666666666,
              "#000017"
             ],
             [
              0.7777777777777778,
              "#000018"
             ],
             [
              0.8888888888888888,
              "#000019"
             ],
             [
              1,
              "#000020"
             ]
            ],
            "type": "contourcarpet"
           }
          ],
          "heatmap": [
           {
            "colorscale": [
             [
              0,
              "#000011"
             ],
             [
              0.1111111111111111,
              "#000012"
             ],
             [
              0.2222222222222222,
              "#000013"
             ],
             [
              0.3333333333333333,
              "#000014"
             ],
             [
              0.4444444444444444,
              "#000015"
             ],
             [
              0.5555555555555556,
              "#000016"
             ],
             [
              0.6666666666666666,
              "#000017"
             ],
             [
              0.7777777777777778,
              "#000018"
             ],
             [
              0.8888888888888888,
              "#000019"
             ],
             [
              1,
              "#000020"
             ]
            ],
            "type": "heatmap"
           }
          ],
          "histogram2d": [
           {
            "colorscale": [
             [
              0,
              "#000011"
             ],
             [
              0.1111111111111111,
              "#000012"
             ],
             [
              0.2222222222222222,
              "#000013"
             ],
             [
              0.3333333333333333,
              "#000014"
             ],
             [
              0.4444444444444444,
              "#000015"
             ],
             [
              0.5555555555555556,
              "#000016"
             ],
             [
              0.6666666666666666,
              "#000017"
             ],
             [
              0.7777777777777778,
              "#000018"
             ],
             [
              0.8888888888888888,
              "#000019"
             ],
             [
              1,
              "#000020"
             ]
            ],
            "type": "histogram2d"
           }
          ],
          "icicle": [
           {
            "textfont": {
             "color": "white"
            },
            "type": "icicle"
           }
          ],
          "sankey": [
           {
            "textfont": {
             "color": "#000036"
            },
            "type": "sankey"
           }
          ],
          "scatter": [
           {
            "marker": {
             "line": {
              "width": 0
             }
            },
            "type": "scatter"
           }
          ],
          "table": [
           {
            "cells": {
             "fill": {
              "color": "#000038"
             },
             "font": {
              "color": "#000037"
             },
             "line": {
              "color": "#000039"
             }
            },
            "header": {
             "fill": {
              "color": "#000040"
             },
             "font": {
              "color": "#000036"
             },
             "line": {
              "color": "#000039"
             }
            },
            "type": "table"
           }
          ],
          "waterfall": [
           {
            "connector": {
             "line": {
              "color": "#000036",
              "width": 2
             }
            },
            "decreasing": {
             "marker": {
              "color": "#000033"
             }
            },
            "increasing": {
             "marker": {
              "color": "#000032"
             }
            },
            "totals": {
             "marker": {
              "color": "#000034"
             }
            },
            "type": "waterfall"
           }
          ]
         },
         "layout": {
          "coloraxis": {
           "colorscale": [
            [
             0,
             "#000011"
            ],
            [
             0.1111111111111111,
             "#000012"
            ],
            [
             0.2222222222222222,
             "#000013"
            ],
            [
             0.3333333333333333,
             "#000014"
            ],
            [
             0.4444444444444444,
             "#000015"
            ],
            [
             0.5555555555555556,
             "#000016"
            ],
            [
             0.6666666666666666,
             "#000017"
            ],
            [
             0.7777777777777778,
             "#000018"
            ],
            [
             0.8888888888888888,
             "#000019"
            ],
            [
             1,
             "#000020"
            ]
           ]
          },
          "colorscale": {
           "diverging": [
            [
             0,
             "#000021"
            ],
            [
             0.1,
             "#000022"
            ],
            [
             0.2,
             "#000023"
            ],
            [
             0.3,
             "#000024"
            ],
            [
             0.4,
             "#000025"
            ],
            [
             0.5,
             "#000026"
            ],
            [
             0.6,
             "#000027"
            ],
            [
             0.7,
             "#000028"
            ],
            [
             0.8,
             "#000029"
            ],
            [
             0.9,
             "#000030"
            ],
            [
             1,
             "#000031"
            ]
           ],
           "sequential": [
            [
             0,
             "#000011"
            ],
            [
             0.1111111111111111,
             "#000012"
            ],
            [
             0.2222222222222222,
             "#000013"
            ],
            [
             0.3333333333333333,
             "#000014"
            ],
            [
             0.4444444444444444,
             "#000015"
            ],
            [
             0.5555555555555556,
             "#000016"
            ],
            [
             0.6666666666666666,
             "#000017"
            ],
            [
             0.7777777777777778,
             "#000018"
            ],
            [
             0.8888888888888888,
             "#000019"
            ],
            [
             1,
             "#000020"
            ]
           ],
           "sequentialminus": [
            [
             0,
             "#000011"
            ],
            [
             0.1111111111111111,
             "#000012"
            ],
            [
             0.2222222222222222,
             "#000013"
            ],
            [
             0.3333333333333333,
             "#000014"
            ],
            [
             0.4444444444444444,
             "#000015"
            ],
            [
             0.5555555555555556,
             "#000016"
            ],
            [
             0.6666666666666666,
             "#000017"
            ],
            [
             0.7777777777777778,
             "#000018"
            ],
            [
             0.8888888888888888,
             "#000019"
            ],
            [
             1,
             "#000020"
            ]
           ]
          },
          "colorway": [
           "#000001",
           "#000002",
           "#000003",
           "#000004",
           "#000005",
           "#000006",
           "#000007",
           "#000008",
           "#000009",
           "#000010"
          ]
         }
        },
        "title": {
         "text": "GROUND REACTION FORCE (Vertical)"
        },
        "width": 800,
        "xaxis": {
         "showgrid": false,
         "title": {
          "text": "Time [s]"
         }
        },
        "yaxis": {
         "gridcolor": "lightgrey",
         "gridwidth": 1,
         "showgrid": true,
         "title": {
          "text": "Force [% BW]"
         },
         "zeroline": false
        }
       }
      }
     },
     "metadata": {},
     "output_type": "display_data"
    }
   ],
   "source": [
    "force2_vt_fig"
   ]
  },
  {
   "cell_type": "code",
   "execution_count": null,
   "metadata": {},
   "outputs": [],
   "source": [
    "# streamlit run gait_report.py"
   ]
  }
 ],
 "metadata": {
  "kernelspec": {
   "display_name": "base",
   "language": "python",
   "name": "python3"
  },
  "language_info": {
   "codemirror_mode": {
    "name": "ipython",
    "version": 3
   },
   "file_extension": ".py",
   "mimetype": "text/x-python",
   "name": "python",
   "nbconvert_exporter": "python",
   "pygments_lexer": "ipython3",
   "version": "3.11.8"
  }
 },
 "nbformat": 4,
 "nbformat_minor": 2
}
