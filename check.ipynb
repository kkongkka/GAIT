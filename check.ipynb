{
 "cells": [
  {
   "cell_type": "code",
   "execution_count": 26,
   "metadata": {},
   "outputs": [
    {
     "name": "stderr",
     "output_type": "stream",
     "text": [
      "2024-04-06 18:21:23.584 No runtime found, using MemoryCacheStorageManager\n"
     ]
    }
   ],
   "source": [
    "import pandas as pd\n",
    "import plotly.express as px\n",
    "import plotly.graph_objs as go\n",
    "import streamlit as st\n",
    "import numpy as np\n",
    "\n",
    "from glob import glob\n",
    "import data_concat\n",
    "\n",
    "st.set_page_config(layout=\"wide\")\n",
    "@st.cache_data\n",
    "def load_data():\n",
    "    fp1, fp2 = data_concat.data_concat()\n",
    "    return fp1, fp2\n",
    "\n",
    "fp1, fp2 = load_data()\n",
    "\n",
    "fp1['trial'] = fp1['trial'].astype(int)\n",
    "fp2['trial'] = fp2['trial'].astype(int)\n",
    "\n",
    "# 스트림릿 사이드바 설정\n",
    "unique_names = fp1['player'].unique()\n",
    "selected_name = st.sidebar.selectbox('Select Name', unique_names)\n",
    "filtered_df_by_name = fp1[fp1['player'] == selected_name]\n",
    "unique_dates = sorted(filtered_df_by_name['day'].unique())\n",
    "selected_date = st.sidebar.selectbox('Select Date', unique_dates)\n",
    "\n",
    "filtered_df_by_name_datas = fp1[(fp1['player'] == selected_name) &\n",
    "                                (fp1['day'] == selected_date)]\n",
    "unique_trial = sorted(filtered_df_by_name_datas['trial'].unique())\n",
    "selected_trial = st.sidebar.selectbox('Select Date', unique_trial)\n",
    "\n",
    "fp1_filtered = fp1[(fp1['player'] == selected_name) & \n",
    "                    (fp1['day'] == selected_date) &\n",
    "                    (fp1['trial'] == selected_trial)]\n",
    "\n",
    "fp2_filtered = fp2[(fp2['player'] == selected_name) & \n",
    "                    (fp2['day'] == selected_date) &\n",
    "                    (fp2['trial'] == selected_trial)]\n",
    "\n",
    "fp1_filtered.reset_index(inplace=True, drop=True)\n",
    "fp2_filtered.reset_index(inplace=True, drop=True)"
   ]
  },
  {
   "cell_type": "code",
   "execution_count": 27,
   "metadata": {},
   "outputs": [],
   "source": [
    "k_sr = 60; f_sr = 2160\n",
    "\n",
    "k_Heel_contact_1  = fp1_filtered[round(fp1_filtered['k_Heel_contact_1'][0],) == round(fp1_filtered['FRAMES'],2)].index.tolist()\n",
    "k_Toe_off_1       = fp1_filtered[round(fp1_filtered['k_Toe_off_1'][0],) == round(fp1_filtered['FRAMES'],2)].index.tolist()\n",
    "k_Heel_contact_2  = fp2_filtered[round(fp2_filtered['k_Heel_contact_2'][0],) == round(fp2_filtered['FRAMES'],2)].index.tolist()\n",
    "k_Toe_off_2       = fp2_filtered[round(fp2_filtered['k_Toe_off_2'][0],) == round(fp2_filtered['FRAMES'],2)].index.tolist()\n"
   ]
  },
  {
   "cell_type": "code",
   "execution_count": 28,
   "metadata": {},
   "outputs": [],
   "source": [
    "fp1_filtered.drop(['k_Heel_contact_1','k_Toe_off_1','k_Heel_contact_2','k_Toe_off_2','f_Heel_contact_1','f_Toe_off_1','f_Heel_contact_2','f_Toe_off_2'], axis=1, inplace=True)\n",
    "fp2_filtered.drop(['k_Heel_contact_1','k_Toe_off_1','k_Heel_contact_2','k_Toe_off_2','f_Heel_contact_1','f_Toe_off_1','f_Heel_contact_2','f_Toe_off_2'], axis=1, inplace=True)"
   ]
  },
  {
   "cell_type": "code",
   "execution_count": 29,
   "metadata": {},
   "outputs": [],
   "source": [
    "fp1_len = len(fp1_filtered)\n",
    "fp1_time = np.arange(0,fp1_len/k_sr, 1/k_sr)\n",
    "fp_1time = fp1_time.round(3)\n",
    "\n",
    "fp2_len = len(fp2_filtered)\n",
    "fp2_time = np.arange(0,fp2_len/k_sr, 1/k_sr)\n",
    "fp_2time = fp2_time.round(3)"
   ]
  },
  {
   "cell_type": "code",
   "execution_count": 30,
   "metadata": {},
   "outputs": [],
   "source": [
    "ang_cols = {\n",
    "    'PELVIS_ANGLE_X' : 'Pelvic_Anterior_Tilt',\n",
    "    #'              ' : 'Pelvic_Up_(Obliquity)',\n",
    "    #'              ' : 'Pelvic_Internal_Rotation',\n",
    "    \n",
    "    'RT_HIP_ANGLE_X' : 'Hip_Flexion',\n",
    "    'RT_HIP_ANGLE_Y' : 'Hip_Adduction',\n",
    "    'RT_HIP_ANGLE_Z' : 'Hip_Internal_Rotation',\n",
    "    \n",
    "    'RT_KNEE_ANGLE_X' : 'Knee_Flexion',\n",
    "    #'               ' : 'Knee_Varus',\n",
    "    #'               ' : 'Knee_Internal_Rotation',\n",
    "    \n",
    "    'RT_ANKLE_ANGLE_X' : 'Ankle_Dorsiflexion',\n",
    "    'RT_ANKLE_ANGLE_Y' : 'add',\n",
    "    'RT_ANKLE_ANGLE_Z' : 'Ankle_Inversion',\n",
    "    \n",
    "    #'RT_ANKLE_ANGLE_Y' : 'Ankle_Rotation',\n",
    "    }"
   ]
  },
  {
   "cell_type": "code",
   "execution_count": 31,
   "metadata": {},
   "outputs": [],
   "source": [
    "def one_angle_plotly(data, cols, time, k_Heel_contact_1, k_Toe_off_1, k_Heel_contact_2, k_Toe_off_2):\n",
    "    ang = {\n",
    "        'max'       : {},\n",
    "        'max_frame' : {},\n",
    "        'min'       : {},\n",
    "        'min_frame' : {},\n",
    "        'k_Heel_contact_1'   : {},\n",
    "        'k_Toe_off_1'        : {},\n",
    "        'k_Heel_contact_2'   : {},\n",
    "        'k_Toe_off_2'        : {},\n",
    "    }\n",
    "    \n",
    "    figures = {}\n",
    "    \n",
    "    for col in cols:\n",
    "        df = data[col]\n",
    "        if 'VELOCITY' in col:\n",
    "            y_label = 'Angular Velocity [deg/s]'\n",
    "        else:\n",
    "            y_label = 'Angle [deg]'\n",
    "        \n",
    "        # Create the trace for the main data line\n",
    "        trace = go.Scatter(x=time, y=df, mode='lines', name=cols[col], line=dict(color='firebrick'))\n",
    "        traces = [trace]\n",
    "        \n",
    "        ang['k_Heel_contact_1'][col] = round(df[k_Heel_contact_1])\n",
    "        ang['k_Toe_off_1'][col]      = round(df[k_Toe_off_1])\n",
    "        ang['k_Heel_contact_2'][col] = round(df[k_Heel_contact_2])\n",
    "        ang['k_Toe_off_2'][col]      = round(df[k_Toe_off_2])\n",
    "        \n",
    "        ang['max'][col]       = round(df.max(), 2)\n",
    "        ang['max_frame'][col] = np.where(df == df.max())[0][0]\n",
    "        ang['min'][col]       = round(df.min(), 2)\n",
    "        ang['min_frame'][col] = np.where(df == df.min())[0][0]\n",
    "        \n",
    "        '''\n",
    "        if col in ['TORSO_ANGLE_Y','LEAD_ELBOW_ANGLE_X','LEAD_SHOULDER_ANGLE_Y','LEAD_SHOULDER_ANGLE_Z','LEAD_KNEE_ANGULAR_VELOCITY_X']:\n",
    "            ang['max'][col]  = round(df[k_fc_time-40:k_br_time+15].max(), 2)\n",
    "            ang['max_frame'][col] = np.where(df == df[k_fc_time-40:k_br_time+15].max())[0][0]\n",
    "\n",
    "        elif col in ['LEAD_KNEE_ANGLE_X']:\n",
    "            ang['max'][col]  = round(df[k_fc_time:k_br_time+1].max(), 2)\n",
    "            ang['max_frame'][col] = np.where(df == df[k_fc_time:k_br_time+1].max())[0][0]\n",
    "        '''\n",
    "        \n",
    "        reference_lines =[]\n",
    "        annotations = []\n",
    "        \n",
    "        for key_time, description in zip([k_Heel_contact_1, k_Toe_off_1, k_Heel_contact_2, k_Toe_off_2],\n",
    "                                     ['HC1', 'TO1', 'HC2', 'TO2']):\n",
    "            \n",
    "            # 참조선\n",
    "            reference_lines.append(\n",
    "            go.Scatter(x=[time[key_time], time[key_time]], y=[df.min(), df.max()],\n",
    "                       mode='lines', line=dict(color='black', width=2, dash='dash'),\n",
    "                       showlegend=False)\n",
    "        )\n",
    "            # 주석\n",
    "            annotations.append(\n",
    "            dict(x=time[key_time], y=0.95, xref='x', yref='paper', showarrow=False,\n",
    "                 text=description,textangle=-90, bgcolor='rgba(0,0,0,0)', bordercolor='rgba(0,0,0,0)', borderwidth=0,\n",
    "                 )\n",
    "        )\n",
    "        \n",
    "        # Define the layout\n",
    "        layout = go.Layout(\n",
    "            title=f'{cols[col]}',\n",
    "            xaxis=dict(title='Time [s]',\n",
    "                       showgrid=False),\n",
    "            yaxis=dict(title=y_label,\n",
    "                       autorange = True,\n",
    "                       rangemode='tozero',\n",
    "                        showgrid=True,         # This will show the horizontal gridlines\n",
    "                        gridcolor='lightgrey',\n",
    "                        gridwidth=1,\n",
    "                        zeroline=False,\n",
    "                        ),                        \n",
    "            showlegend=False,\n",
    "            margin=dict(l=40, r=40, t=40, b=40),\n",
    "            height=600,\n",
    "            plot_bgcolor='rgb(43,48,61)',\n",
    "            annotations=annotations\n",
    "        )\n",
    "        \n",
    "        # Create the figure and add the traces to it\n",
    "        fig = go.Figure(data=traces + reference_lines, layout=layout)\n",
    "        \n",
    "        # Store the figure in the dictionary\n",
    "        figures[col] = fig\n",
    "        \n",
    "    return ang, figures"
   ]
  },
  {
   "cell_type": "code",
   "execution_count": 32,
   "metadata": {},
   "outputs": [],
   "source": [
    "FP1_values, FP1_fig = one_angle_plotly(fp1_filtered, ang_cols, fp_1time, k_Heel_contact_1, k_Toe_off_1, k_Heel_contact_2, k_Toe_off_2)\n",
    "FP2_values, FP2_fig = one_angle_plotly(fp2_filtered, ang_cols, fp_2time, k_Heel_contact_1, k_Toe_off_1, k_Heel_contact_2, k_Toe_off_2)"
   ]
  },
  {
   "cell_type": "code",
   "execution_count": 33,
   "metadata": {},
   "outputs": [],
   "source": [
    "for col in FP1_fig:\n",
    "    fig = FP1_fig[col]\n",
    "    fig.update_layout(\n",
    "    width=800,  # Set the width to your preference\n",
    "    height=400  # Set the height to your preference\n",
    "    )\n",
    "    \n",
    "for col in FP2_fig:\n",
    "    fig = FP2_fig[col]\n",
    "    fig.update_layout(\n",
    "    width=800,  # Set the width to your preference\n",
    "    height=400  # Set the height to your preference\n",
    "    )"
   ]
  },
  {
   "cell_type": "code",
   "execution_count": 34,
   "metadata": {},
   "outputs": [
    {
     "data": {
      "text/plain": [
       "DeltaGenerator()"
      ]
     },
     "execution_count": 34,
     "metadata": {},
     "output_type": "execute_result"
    }
   ],
   "source": [
    "st.header('분석 구간')\n",
    "st.image('image/analysis.png', use_column_width=True)"
   ]
  },
  {
   "cell_type": "code",
   "execution_count": 41,
   "metadata": {},
   "outputs": [],
   "source": [
    "for col in ang_cols:\n",
    "    st.write(ang_cols[col])\n",
    "    col1, col2 = st.columns([1, 3])\n",
    "    with col2:\n",
    "        st.plotly_chart(FP1_fig[col], use_container_width=False)"
   ]
  },
  {
   "cell_type": "code",
   "execution_count": 46,
   "metadata": {},
   "outputs": [
    {
     "name": "stdout",
     "output_type": "stream",
     "text": [
      "DeltaGenerator() DeltaGenerator()\n",
      "DeltaGenerator() DeltaGenerator()\n",
      "DeltaGenerator() DeltaGenerator()\n",
      "DeltaGenerator() DeltaGenerator()\n",
      "DeltaGenerator() DeltaGenerator()\n",
      "DeltaGenerator() DeltaGenerator()\n",
      "DeltaGenerator() DeltaGenerator()\n",
      "DeltaGenerator() DeltaGenerator()\n"
     ]
    }
   ],
   "source": [
    "for col in ang_cols:\n",
    "    st.write(ang_cols[col])\n",
    "    col1, col2 = st.columns([1, 3])\n",
    "    print(col1, col2)"
   ]
  },
  {
   "cell_type": "code",
   "execution_count": null,
   "metadata": {},
   "outputs": [],
   "source": []
  },
  {
   "cell_type": "code",
   "execution_count": null,
   "metadata": {},
   "outputs": [],
   "source": []
  },
  {
   "cell_type": "code",
   "execution_count": null,
   "metadata": {},
   "outputs": [],
   "source": []
  },
  {
   "cell_type": "code",
   "execution_count": null,
   "metadata": {},
   "outputs": [],
   "source": []
  },
  {
   "cell_type": "code",
   "execution_count": null,
   "metadata": {},
   "outputs": [],
   "source": []
  },
  {
   "cell_type": "code",
   "execution_count": null,
   "metadata": {},
   "outputs": [],
   "source": [
    "# streamlit run gait_report.py"
   ]
  }
 ],
 "metadata": {
  "kernelspec": {
   "display_name": "base",
   "language": "python",
   "name": "python3"
  },
  "language_info": {
   "codemirror_mode": {
    "name": "ipython",
    "version": 3
   },
   "file_extension": ".py",
   "mimetype": "text/x-python",
   "name": "python",
   "nbconvert_exporter": "python",
   "pygments_lexer": "ipython3",
   "version": "3.11.8"
  }
 },
 "nbformat": 4,
 "nbformat_minor": 2
}
