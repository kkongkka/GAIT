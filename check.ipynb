{
 "cells": [
  {
   "cell_type": "code",
   "execution_count": 1,
   "metadata": {},
   "outputs": [],
   "source": [
    "import pandas as pd\n",
    "import plotly.express as px\n",
    "import plotly.graph_objs as go\n",
    "import matplotlib.pyplot as plt\n",
    "import streamlit as st\n",
    "import numpy as np\n",
    "\n",
    "from glob import glob\n",
    "import data_concat"
   ]
  },
  {
   "cell_type": "code",
   "execution_count": 2,
   "metadata": {},
   "outputs": [
    {
     "name": "stderr",
     "output_type": "stream",
     "text": [
      "2024-04-12 09:28:55.639 WARNING streamlit.runtime.caching.cache_data_api: No runtime found, using MemoryCacheStorageManager\n",
      "2024-04-12 09:28:55.706 \n",
      "  \u001b[33m\u001b[1mWarning:\u001b[0m to view this Streamlit app on a browser, run it with the following\n",
      "  command:\n",
      "\n",
      "    streamlit run /opt/anaconda3/lib/python3.11/site-packages/ipykernel_launcher.py [ARGUMENTS]\n",
      "2024-04-12 09:28:55.707 No runtime found, using MemoryCacheStorageManager\n"
     ]
    }
   ],
   "source": [
    "st.set_page_config(layout=\"wide\")\n",
    "@st.cache_data\n",
    "def load_data():\n",
    "    fp1, fp2 = data_concat.data_concat()\n",
    "    return fp1, fp2\n",
    "\n",
    "fp1, fp2 = load_data()\n",
    "\n",
    "fp1['trial'] = fp1['trial'].astype(int)\n",
    "fp2['trial'] = fp2['trial'].astype(int)\n",
    "\n",
    "# 스트림릿 사이드바 설정\n",
    "unique_names = fp1['player'].unique()\n",
    "selected_name = st.sidebar.selectbox('Select Name', unique_names)\n",
    "filtered_df_by_name = fp1[fp1['player'] == selected_name]\n",
    "unique_dates = sorted(filtered_df_by_name['day'].unique())\n",
    "selected_date = st.sidebar.selectbox('Select Date', unique_dates)\n",
    "\n",
    "filtered_df_by_name_datas = fp1[(fp1['player'] == selected_name) &\n",
    "                                (fp1['day'] == selected_date)]\n",
    "unique_trial = sorted(filtered_df_by_name_datas['trial'].unique())\n",
    "selected_trial = st.sidebar.selectbox('Select Date', unique_trial)\n",
    "\n",
    "fp1_filtered = fp1[(fp1['player'] == selected_name) & \n",
    "                    (fp1['day'] == selected_date) &\n",
    "                    (fp1['trial'] == selected_trial)]\n",
    "\n",
    "fp2_filtered = fp2[(fp2['player'] == selected_name) & \n",
    "                    (fp2['day'] == selected_date) &\n",
    "                    (fp2['trial'] == selected_trial)]\n",
    "\n",
    "fp1_filtered.reset_index(inplace=True, drop=True)\n",
    "fp2_filtered.reset_index(inplace=True, drop=True)\n",
    "\n",
    "k_sr = 60; f_sr = 2160\n",
    "\n",
    "k_Heel_contact_1  = fp1_filtered[round(fp1_filtered['k_Heel_contact_1'][0],) == round(fp1_filtered['FRAMES'],2)].index.tolist()\n",
    "k_Toe_off_1       = fp1_filtered[round(fp1_filtered['k_Toe_off_1'][0],) == round(fp1_filtered['FRAMES'],2)].index.tolist()\n",
    "k_Heel_contact_2  = fp2_filtered[round(fp2_filtered['k_Heel_contact_2'][0],) == round(fp2_filtered['FRAMES'],2)].index.tolist()\n",
    "k_Toe_off_2       = fp2_filtered[round(fp2_filtered['k_Toe_off_2'][0],) == round(fp2_filtered['FRAMES'],2)].index.tolist()\n",
    "\n",
    "fp1_filtered.drop(['k_Heel_contact_1','k_Toe_off_1','k_Heel_contact_2','k_Toe_off_2','f_Heel_contact_1','f_Toe_off_1','f_Heel_contact_2','f_Toe_off_2'], axis=1, inplace=True)\n",
    "fp2_filtered.drop(['k_Heel_contact_1','k_Toe_off_1','k_Heel_contact_2','k_Toe_off_2','f_Heel_contact_1','f_Toe_off_1','f_Heel_contact_2','f_Toe_off_2'], axis=1, inplace=True)\n",
    "\n",
    "fp1_len = len(fp1_filtered)\n",
    "fp1_time = np.arange(0,fp1_len/k_sr, 1/k_sr)\n",
    "fp_1time = fp1_time.round(3)\n",
    "\n",
    "fp2_len = len(fp2_filtered)\n",
    "fp2_time = np.arange(0,fp2_len/k_sr, 1/k_sr)\n",
    "fp_2time = fp2_time.round(3)"
   ]
  },
  {
   "cell_type": "code",
   "execution_count": null,
   "metadata": {},
   "outputs": [],
   "source": [
    "FP1_ang_cols = {\n",
    "    'PELVIS_ANGLE_X' : 'Pelvic_Anterior_Tilt',\n",
    "    'PELVIS_ANGLE_Y' : 'Pelvic_Rotation',\n",
    "    'PELVIS_ANGLE_Z' : 'Pelvic_Up_(Obliquity)',\n",
    "    \n",
    "    'FP1_HIP_ANGLE_X' : 'Hip_Flexion', # Extension\n",
    "    'FP1_HIP_ANGLE_Y' : 'Hip_Adduction', # Abduction\n",
    "    'FP1_HIP_ANGLE_Z' : 'Hip_Internal_Rotation', # External Rotation\n",
    "    \n",
    "    'FP1_KNEE_ANGLE_X' : 'Knee_Flexion',\n",
    "    #'               ' : 'Knee_Varus',\n",
    "    #'               ' : 'Knee_Internal_Rotation',\n",
    "    \n",
    "    'FP1_ANKLE_ANGLE_X' : 'Ankle_Dorsiflexion', # Plantarflexion\n",
    "    'FP1_ANKLE_ANGLE_Y' : 'Ankle_Inversion', # Eversion\n",
    "    'FP1_ANKLE_ANGLE_Z' : 'Ankle_Internal_Rotation', # External Rotation\n",
    "    }\n",
    "\n",
    "FP2_ang_cols = {\n",
    "    'PELVIS_ANGLE_X' : 'Pelvic_Anterior_Tilt',\n",
    "    'PELVIS_ANGLE_Y' : 'Pelvic_Rotation',\n",
    "    'PELVIS_ANGLE_Z' : 'Pelvic_Up_(Obliquity)',\n",
    "    \n",
    "    'FP2_HIP_ANGLE_X' : 'Hip_Flexion', # Extension\n",
    "    'FP2_HIP_ANGLE_Y' : 'Hip_Adduction', # Abduction\n",
    "    'FP2_HIP_ANGLE_Z' : 'Hip_Internal_Rotation', # External Rotation\n",
    "    \n",
    "    'FP2_KNEE_ANGLE_X' : 'Knee_Flexion',\n",
    "    #'               ' : 'Knee_Varus',\n",
    "    #'               ' : 'Knee_Internal_Rotation',\n",
    "    \n",
    "    'FP2_ANKLE_ANGLE_X' : 'Ankle_Dorsiflexion', # Plantarflexion\n",
    "    'FP2_ANKLE_ANGLE_Y' : 'Ankle_Inversion', # Eversion\n",
    "    'FP2_ANKLE_ANGLE_Z' : 'Ankle_Internal_Rotation', # External Rotation\n",
    "    }\n",
    "\n",
    "\n",
    "ap1_cols = {'FP1_FORCE_Y' : ['Stride Leg' , 'blue'],}\n",
    "vt1_cols = {'FP1_FORCE_Z' : ['Stride Leg' , 'red'],}\n",
    "\n",
    "ap2_cols = {'FP2_FORCE_Y' : ['Stride Leg', 'blue'],}\n",
    "vt2_cols = {'FP2_FORCE_Z' : ['Stride Leg' , 'red'],}\n",
    "\n",
    "FP1_mmt_cols = {\n",
    "    'FP1_KNEE_MMT_X' : 'Knee_Extensor_Moment',\n",
    "    'FP1_KNEE_MMT_Y' : 'Knee_Valgus_Moment',\n",
    "    'FP1_KNEE_MMT_Z' : 'Knee_Rotaion_Moment',\n",
    "    \n",
    "    'FP1_ANKLE_MMT_X' : 'Ankle_Plantarflexor_Moment',\n",
    "    'FP1_ANKLE_MMT_Y' : 'Ankle_Eversion_Moment',\n",
    "    'FP1_ANKLE_MMT_Z' : 'Ankle_Rotaion_Moment',\n",
    "    }\n",
    "\n",
    "FP2_mmt_cols = {\n",
    "    'FP2_KNEE_MMT_X' : 'Knee_Extensor_Moment',\n",
    "    'FP2_KNEE_MMT_Y' : 'Knee_Valgus_Moment',\n",
    "    'FP2_KNEE_MMT_Z' : 'Knee_Rotaion_Moment',\n",
    "    \n",
    "    'FP2_ANKLE_MMT_X' : 'Ankle_Plantarflexor_Moment',\n",
    "    'FP2_ANKLE_MMT_Y' : 'Ankle_Eversion_Moment',\n",
    "    'FP2_ANKLE_MMT_Z' : 'Ankle_Rotaion_Moment',\n",
    "    }"
   ]
  },
  {
   "cell_type": "code",
   "execution_count": 4,
   "metadata": {},
   "outputs": [],
   "source": [
    "def one_angle_plotly(data, cols, time, k_Heel_contact_1, k_Toe_off_1, k_Heel_contact_2, k_Toe_off_2):\n",
    "    ang = {\n",
    "        'max'       : {},\n",
    "        'max_frame' : {},\n",
    "        'min'       : {},\n",
    "        'min_frame' : {},\n",
    "        'k_Heel_contact_1'   : {},\n",
    "        'k_Toe_off_1'        : {},\n",
    "        'k_Heel_contact_2'   : {},\n",
    "        'k_Toe_off_2'        : {},\n",
    "    }\n",
    "    \n",
    "    figures = {}\n",
    "    \n",
    "    for col in cols:\n",
    "        df = data[col]\n",
    "        if 'VELOCITY' in col:\n",
    "            y_label = 'Angular Velocity [deg/s]'\n",
    "        elif 'MMT' in col:\n",
    "            y_label = 'Moment [Nm/kg]'\n",
    "        else:\n",
    "            y_label = 'Angle [deg]'\n",
    "        \n",
    "        # Create the trace for the main data line\n",
    "        time_sequence = list(range(len(df)))\n",
    "        trace = go.Scatter(x=time_sequence, y=df, mode='lines', name=cols[col], line=dict(color='orange'))\n",
    "        traces = [trace]\n",
    "        \n",
    "        ang['k_Heel_contact_1'][col] = round(df[k_Heel_contact_1])\n",
    "        ang['k_Toe_off_1'][col]      = round(df[k_Toe_off_1])\n",
    "        ang['k_Heel_contact_2'][col] = round(df[k_Heel_contact_2])\n",
    "        ang['k_Toe_off_2'][col]      = round(df[k_Toe_off_2])\n",
    "        \n",
    "        ang['max'][col]       = round(df.max(), 2)\n",
    "        ang['max_frame'][col] = np.where(df == df.max())[0][0]\n",
    "        ang['min'][col]       = round(df.min(), 2)\n",
    "        ang['min_frame'][col] = np.where(df == df.min())[0][0]\n",
    "        \n",
    "        reference_lines =[]\n",
    "        annotations = []\n",
    "        \n",
    "        # 최대값 위치에 수직선 추가\n",
    "        max_frame_index = ang['max_frame'][col]\n",
    "        reference_lines.append(\n",
    "            go.Scatter(x=[time_sequence[max_frame_index], time_sequence[max_frame_index]], y=[df.min(), df.max()],\n",
    "                       mode='lines', line=dict(color='red', width=2, dash='dash'),\n",
    "                       showlegend=False)\n",
    "        )\n",
    "\n",
    "        # 주석 추가\n",
    "        annotations.append(\n",
    "            dict(x=time_sequence[max_frame_index], y=0.95, xref='x', yref='paper', showarrow=False,\n",
    "                 text='Max', textangle=-90, bgcolor='rgba(0,0,0,0)', bordercolor='rgba(0,0,0,0)', borderwidth=0)\n",
    "        )\n",
    "        \n",
    "        # Define the layout\n",
    "        layout = go.Layout(\n",
    "            title=f'{cols[col]}',\n",
    "            xaxis=dict(title='Time [s]',\n",
    "                       showgrid=False),\n",
    "            yaxis=dict(title=y_label,\n",
    "                       autorange = True,\n",
    "                       rangemode='tozero',\n",
    "                        showgrid=True,         # This will show the horizontal gridlines\n",
    "                        gridcolor='lightgrey',\n",
    "                        gridwidth=1,\n",
    "                        zeroline=False,\n",
    "                        ),                        \n",
    "            showlegend=False,\n",
    "            margin=dict(l=40, r=40, t=40, b=40),\n",
    "            height=400,\n",
    "            plot_bgcolor='rgb(43,48,61)',\n",
    "            annotations=annotations\n",
    "        )\n",
    "        \n",
    "        # Create the figure and add the traces to it\n",
    "        fig = go.Figure(data=traces + reference_lines, layout=layout)\n",
    "        \n",
    "        # Store the figure in the dictionary\n",
    "        figures[col] = fig\n",
    "        \n",
    "    return ang, figures\n",
    "\n",
    "def grf_plotly(data, cols, time, k_Heel_contact_1, k_Toe_off_1, k_Heel_contact_2, k_Toe_off_2, axis):\n",
    "    title = 'GROUND REACTION FORCE (AP-AXIS)' if axis == 'ap' else 'GROUND REACTION FORCE (Vertical)'\n",
    "    \n",
    "    y_values = {\n",
    "        'max'       : {},\n",
    "        'max_frame' : {},\n",
    "        'min'       : {},\n",
    "        'min_frame' : {},\n",
    "        'k_Heel_contact_1'   : {},\n",
    "        'k_Toe_off_1'        : {},\n",
    "        'k_Heel_contact_2'   : {},\n",
    "        'k_Toe_off_2'        : {},\n",
    "    }\n",
    "    \n",
    "    # Create traces\n",
    "    traces = []\n",
    "    for col, info in cols.items():\n",
    "        df = data[col]\n",
    "        time_sequence = list(range(len(df)))\n",
    "        trace = go.Scatter(x=time_sequence, y=df, mode='lines', name=info[0], line=dict(color=info[-1]))\n",
    "        traces.append(trace)\n",
    "        \n",
    "        # Perform and store the calculations for max, min and specific times\n",
    "        y_values['k_Heel_contact_1'][col] = round(df[k_Heel_contact_1])\n",
    "        y_values['k_Toe_off_1'][col]      = round(df[k_Toe_off_1])\n",
    "        y_values['k_Heel_contact_2'][col] = round(df[k_Heel_contact_2])\n",
    "        y_values['k_Toe_off_2'][col]      = round(df[k_Toe_off_2])\n",
    "        \n",
    "        y_values['max'][col]       = round(df.max(), 2)\n",
    "        y_values['max_frame'][col] = np.where(df == df.max())[0][0]\n",
    "        y_values['min'][col]       = round(df.min(), 2)\n",
    "        y_values['min_frame'][col] = np.where(df == df.min())[0][0]\n",
    "        \n",
    "    # Adding reference lines and annotations\n",
    "    reference_lines = []\n",
    "    annotations = []\n",
    "\n",
    "    # 최대값 위치에 수직선 추가\n",
    "    max_frame_index = y_values['max_frame'][col]\n",
    "    reference_lines.append(\n",
    "        go.Scatter(x=[time_sequence[max_frame_index], time_sequence[max_frame_index]], y=[df.min(), df.max()],\n",
    "                    mode='lines', line=dict(color='red', width=2, dash='dash'),\n",
    "                    showlegend=False)\n",
    "    )\n",
    "\n",
    "    # 주석 추가\n",
    "    annotations.append(\n",
    "        dict(x=time_sequence[max_frame_index], y=0.95, xref='x', yref='paper', showarrow=False,\n",
    "                text='Max', textangle=-90, bgcolor='rgba(0,0,0,0)', bordercolor='rgba(0,0,0,0)', borderwidth=0)\n",
    "    )\n",
    "\n",
    "    # Update the layout with additional elements\n",
    "    layout = go.Layout(\n",
    "        title=title,\n",
    "        xaxis=dict(title='Time [s]',\n",
    "                    showgrid=False),\n",
    "        yaxis=dict(\n",
    "                    title='Force [% BW]',\n",
    "                    showgrid=True,         # This will show the horizontal gridlines\n",
    "                    gridcolor='lightgrey',\n",
    "                    gridwidth=1,\n",
    "                    zeroline=False\n",
    "                ),\n",
    "        showlegend=True,\n",
    "        legend=dict(\n",
    "                    x=1, # Adjust this value to move the legend left or right\n",
    "                    y=1, # Adjust this value to move the legend up or down\n",
    "                    xanchor='right', # Anchor the legend's right side at the x position\n",
    "                    yanchor='top', # Anchor the legend's top at the y position\n",
    "                    bgcolor='rgb(43,48,61)' # Set a background color with a bit of transparency\n",
    "                    ),\n",
    "        margin=dict(l=40, r=40, t=40, b=40),\n",
    "        height=600,\n",
    "        hovermode='closest',\n",
    "        plot_bgcolor='rgb(43,48,61)',\n",
    "        annotations=annotations\n",
    "    )\n",
    "\n",
    "    # Create the figure\n",
    "    fig = go.Figure(data=traces + reference_lines, layout=layout)\n",
    "\n",
    "    return fig, y_values\n",
    "\n",
    "# ============================ 그래프 및 시점 수치 =======================================\n",
    "FP1_values, FP1_fig = one_angle_plotly(fp1_filtered, FP1_ang_cols, fp_1time, k_Heel_contact_1, k_Toe_off_1, k_Heel_contact_2, k_Toe_off_2)\n",
    "FP2_values, FP2_fig = one_angle_plotly(fp2_filtered, FP2_ang_cols, fp_2time, k_Heel_contact_1, k_Toe_off_1, k_Heel_contact_2, k_Toe_off_2)\n",
    "\n",
    "force1_ap_fig, force1_ap_values = grf_plotly(fp1_filtered, ap1_cols, fp_1time, k_Heel_contact_1, k_Toe_off_1, k_Heel_contact_2, k_Toe_off_2, axis='ap')\n",
    "force1_vt_fig, force1_vt_values = grf_plotly(fp1_filtered, vt1_cols, fp_1time, k_Heel_contact_1, k_Toe_off_1, k_Heel_contact_2, k_Toe_off_2, axis='vt')\n",
    "\n",
    "force2_ap_fig, force2_ap_values = grf_plotly(fp2_filtered, ap2_cols, fp_2time, k_Heel_contact_1, k_Toe_off_1, k_Heel_contact_2, k_Toe_off_2, axis='ap')\n",
    "force2_vt_fig, force2_vt_values = grf_plotly(fp2_filtered, vt2_cols, fp_2time, k_Heel_contact_1, k_Toe_off_1, k_Heel_contact_2, k_Toe_off_2, axis='vt')\n",
    "\n",
    "FP1_mmt, mmt1_fig = one_angle_plotly(fp1_filtered, FP1_mmt_cols, fp_1time, k_Heel_contact_1, k_Toe_off_1, k_Heel_contact_2, k_Toe_off_2)\n",
    "FP2_mmt, mmt2_fig = one_angle_plotly(fp2_filtered, FP2_mmt_cols, fp_2time, k_Heel_contact_1, k_Toe_off_1, k_Heel_contact_2, k_Toe_off_2)\n"
   ]
  },
  {
   "cell_type": "code",
   "execution_count": 5,
   "metadata": {},
   "outputs": [
    {
     "data": {
      "application/vnd.plotly.v1+json": {
       "config": {
        "plotlyServerURL": "https://plot.ly"
       },
       "data": [
        {
         "line": {
          "color": "red"
         },
         "mode": "lines",
         "name": "Stride Leg",
         "type": "scatter",
         "x": [
          0,
          1,
          2,
          3,
          4,
          5,
          6,
          7,
          8,
          9,
          10,
          11,
          12,
          13,
          14,
          15,
          16,
          17,
          18,
          19,
          20,
          21,
          22,
          23,
          24,
          25,
          26,
          27,
          28,
          29,
          30,
          31,
          32,
          33,
          34,
          35,
          36,
          37,
          38,
          39,
          40,
          41,
          42,
          43,
          44,
          45,
          46,
          47,
          48,
          49,
          50,
          51,
          52,
          53,
          54,
          55,
          56,
          57,
          58,
          59,
          60,
          61,
          62,
          63,
          64,
          65,
          66,
          67,
          68,
          69,
          70,
          71,
          72,
          73,
          74,
          75,
          76,
          77,
          78,
          79,
          80,
          81,
          82,
          83,
          84,
          85,
          86,
          87,
          88,
          89,
          90,
          91,
          92,
          93,
          94,
          95,
          96,
          97,
          98,
          99,
          100
         ],
         "y": [
          8.798590240854303,
          28.045716767050862,
          39.70280024663701,
          39.87730445242957,
          39.53799693854071,
          43.036823747738225,
          47.500951770795034,
          50.88773592691577,
          52.768100713411464,
          53.87750515428846,
          55.90765571750392,
          59.80313695261752,
          64.81999548077204,
          69.73663011265279,
          74.19574711341578,
          78.37789061867286,
          82.28692881929727,
          85.79831580457078,
          88.74390395211908,
          90.91713362038156,
          92.26109665166965,
          92.88735939402568,
          93.00959840192898,
          92.9598547967026,
          92.99158031330244,
          93.02875985128436,
          92.66385548339596,
          91.59363404945894,
          89.97909397291906,
          88.1353054733901,
          86.18627678114316,
          84.13945304270494,
          82.02598900424896,
          79.87607965257172,
          77.72143693473527,
          75.66108402882674,
          73.80097198577374,
          72.16559114666528,
          70.72655174816272,
          69.479196854166,
          68.48317336009079,
          67.80252626515414,
          67.4199522337939,
          67.24991544044555,
          67.22666637390826,
          67.33550165420712,
          67.57133071832146,
          67.89907094517686,
          68.25467357805087,
          68.60027735979013,
          68.96852933119457,
          69.42494575414946,
          70.01485071460954,
          70.76810470482825,
          71.69244039621705,
          72.76233687435357,
          73.9310666221125,
          75.14745352589411,
          76.40412958400323,
          77.76346424608953,
          79.27343953586148,
          80.8922500640749,
          82.54236962740671,
          84.20885926790831,
          85.90687800679177,
          87.60302790719908,
          89.29577602578931,
          90.98266650343754,
          92.3780019272753,
          93.05612760892598,
          93.10430759380088,
          93.00573592033444,
          92.99418132913888,
          93.01696975687844,
          93.01614721411217,
          93.0040003510628,
          92.99872422015224,
          92.99787749101624,
          92.99340109946736,
          92.98475472174644,
          92.98247671534482,
          92.99202230755544,
          92.9838018263663,
          92.93226609443796,
          92.932150800743,
          93.08611418167705,
          93.0037260447577,
          91.77755180764156,
          89.07125939706695,
          85.51793710269791,
          81.55275253120348,
          76.77701327122121,
          70.84555481081297,
          63.94982244725578,
          56.05892616960169,
          47.0545534232948,
          37.5215458849417,
          28.543151184666375,
          20.971207793930738,
          15.10605387048876,
          10.4598374991037
         ]
        },
        {
         "line": {
          "color": "red",
          "dash": "dash",
          "width": 2
         },
         "mode": "lines",
         "showlegend": false,
         "type": "scatter",
         "x": [
          70,
          70
         ],
         "y": [
          8.798590240854303,
          93.10430759380088
         ]
        }
       ],
       "layout": {
        "annotations": [
         {
          "bgcolor": "rgba(0,0,0,0)",
          "bordercolor": "rgba(0,0,0,0)",
          "borderwidth": 0,
          "showarrow": false,
          "text": "Max",
          "textangle": -90,
          "x": 70,
          "xref": "x",
          "y": 0.95,
          "yref": "paper"
         }
        ],
        "height": 400,
        "hovermode": "closest",
        "legend": {
         "bgcolor": "rgb(43,48,61)",
         "x": 1,
         "xanchor": "right",
         "y": 1,
         "yanchor": "top"
        },
        "margin": {
         "b": 40,
         "l": 40,
         "r": 40,
         "t": 40
        },
        "plot_bgcolor": "rgb(43,48,61)",
        "showlegend": true,
        "template": {
         "data": {
          "candlestick": [
           {
            "decreasing": {
             "line": {
              "color": "#000033"
             }
            },
            "increasing": {
             "line": {
              "color": "#000032"
             }
            },
            "type": "candlestick"
           }
          ],
          "contour": [
           {
            "colorscale": [
             [
              0,
              "#000011"
             ],
             [
              0.1111111111111111,
              "#000012"
             ],
             [
              0.2222222222222222,
              "#000013"
             ],
             [
              0.3333333333333333,
              "#000014"
             ],
             [
              0.4444444444444444,
              "#000015"
             ],
             [
              0.5555555555555556,
              "#000016"
             ],
             [
              0.6666666666666666,
              "#000017"
             ],
             [
              0.7777777777777778,
              "#000018"
             ],
             [
              0.8888888888888888,
              "#000019"
             ],
             [
              1,
              "#000020"
             ]
            ],
            "type": "contour"
           }
          ],
          "contourcarpet": [
           {
            "colorscale": [
             [
              0,
              "#000011"
             ],
             [
              0.1111111111111111,
              "#000012"
             ],
             [
              0.2222222222222222,
              "#000013"
             ],
             [
              0.3333333333333333,
              "#000014"
             ],
             [
              0.4444444444444444,
              "#000015"
             ],
             [
              0.5555555555555556,
              "#000016"
             ],
             [
              0.6666666666666666,
              "#000017"
             ],
             [
              0.7777777777777778,
              "#000018"
             ],
             [
              0.8888888888888888,
              "#000019"
             ],
             [
              1,
              "#000020"
             ]
            ],
            "type": "contourcarpet"
           }
          ],
          "heatmap": [
           {
            "colorscale": [
             [
              0,
              "#000011"
             ],
             [
              0.1111111111111111,
              "#000012"
             ],
             [
              0.2222222222222222,
              "#000013"
             ],
             [
              0.3333333333333333,
              "#000014"
             ],
             [
              0.4444444444444444,
              "#000015"
             ],
             [
              0.5555555555555556,
              "#000016"
             ],
             [
              0.6666666666666666,
              "#000017"
             ],
             [
              0.7777777777777778,
              "#000018"
             ],
             [
              0.8888888888888888,
              "#000019"
             ],
             [
              1,
              "#000020"
             ]
            ],
            "type": "heatmap"
           }
          ],
          "histogram2d": [
           {
            "colorscale": [
             [
              0,
              "#000011"
             ],
             [
              0.1111111111111111,
              "#000012"
             ],
             [
              0.2222222222222222,
              "#000013"
             ],
             [
              0.3333333333333333,
              "#000014"
             ],
             [
              0.4444444444444444,
              "#000015"
             ],
             [
              0.5555555555555556,
              "#000016"
             ],
             [
              0.6666666666666666,
              "#000017"
             ],
             [
              0.7777777777777778,
              "#000018"
             ],
             [
              0.8888888888888888,
              "#000019"
             ],
             [
              1,
              "#000020"
             ]
            ],
            "type": "histogram2d"
           }
          ],
          "icicle": [
           {
            "textfont": {
             "color": "white"
            },
            "type": "icicle"
           }
          ],
          "sankey": [
           {
            "textfont": {
             "color": "#000036"
            },
            "type": "sankey"
           }
          ],
          "scatter": [
           {
            "marker": {
             "line": {
              "width": 0
             }
            },
            "type": "scatter"
           }
          ],
          "table": [
           {
            "cells": {
             "fill": {
              "color": "#000038"
             },
             "font": {
              "color": "#000037"
             },
             "line": {
              "color": "#000039"
             }
            },
            "header": {
             "fill": {
              "color": "#000040"
             },
             "font": {
              "color": "#000036"
             },
             "line": {
              "color": "#000039"
             }
            },
            "type": "table"
           }
          ],
          "waterfall": [
           {
            "connector": {
             "line": {
              "color": "#000036",
              "width": 2
             }
            },
            "decreasing": {
             "marker": {
              "color": "#000033"
             }
            },
            "increasing": {
             "marker": {
              "color": "#000032"
             }
            },
            "totals": {
             "marker": {
              "color": "#000034"
             }
            },
            "type": "waterfall"
           }
          ]
         },
         "layout": {
          "coloraxis": {
           "colorscale": [
            [
             0,
             "#000011"
            ],
            [
             0.1111111111111111,
             "#000012"
            ],
            [
             0.2222222222222222,
             "#000013"
            ],
            [
             0.3333333333333333,
             "#000014"
            ],
            [
             0.4444444444444444,
             "#000015"
            ],
            [
             0.5555555555555556,
             "#000016"
            ],
            [
             0.6666666666666666,
             "#000017"
            ],
            [
             0.7777777777777778,
             "#000018"
            ],
            [
             0.8888888888888888,
             "#000019"
            ],
            [
             1,
             "#000020"
            ]
           ]
          },
          "colorscale": {
           "diverging": [
            [
             0,
             "#000021"
            ],
            [
             0.1,
             "#000022"
            ],
            [
             0.2,
             "#000023"
            ],
            [
             0.3,
             "#000024"
            ],
            [
             0.4,
             "#000025"
            ],
            [
             0.5,
             "#000026"
            ],
            [
             0.6,
             "#000027"
            ],
            [
             0.7,
             "#000028"
            ],
            [
             0.8,
             "#000029"
            ],
            [
             0.9,
             "#000030"
            ],
            [
             1,
             "#000031"
            ]
           ],
           "sequential": [
            [
             0,
             "#000011"
            ],
            [
             0.1111111111111111,
             "#000012"
            ],
            [
             0.2222222222222222,
             "#000013"
            ],
            [
             0.3333333333333333,
             "#000014"
            ],
            [
             0.4444444444444444,
             "#000015"
            ],
            [
             0.5555555555555556,
             "#000016"
            ],
            [
             0.6666666666666666,
             "#000017"
            ],
            [
             0.7777777777777778,
             "#000018"
            ],
            [
             0.8888888888888888,
             "#000019"
            ],
            [
             1,
             "#000020"
            ]
           ],
           "sequentialminus": [
            [
             0,
             "#000011"
            ],
            [
             0.1111111111111111,
             "#000012"
            ],
            [
             0.2222222222222222,
             "#000013"
            ],
            [
             0.3333333333333333,
             "#000014"
            ],
            [
             0.4444444444444444,
             "#000015"
            ],
            [
             0.5555555555555556,
             "#000016"
            ],
            [
             0.6666666666666666,
             "#000017"
            ],
            [
             0.7777777777777778,
             "#000018"
            ],
            [
             0.8888888888888888,
             "#000019"
            ],
            [
             1,
             "#000020"
            ]
           ]
          },
          "colorway": [
           "#000001",
           "#000002",
           "#000003",
           "#000004",
           "#000005",
           "#000006",
           "#000007",
           "#000008",
           "#000009",
           "#000010"
          ]
         }
        },
        "title": {
         "text": "GROUND REACTION FORCE (Vertical)"
        },
        "width": 800,
        "xaxis": {
         "showgrid": false,
         "title": {
          "text": "Time [s]"
         }
        },
        "yaxis": {
         "gridcolor": "lightgrey",
         "gridwidth": 1,
         "showgrid": true,
         "title": {
          "text": "Force [% BW]"
         },
         "zeroline": false
        }
       }
      }
     },
     "metadata": {},
     "output_type": "display_data"
    }
   ],
   "source": [
    "force1_ap_fig.update_layout(\n",
    "    width=800,  # Set the width to your preference\n",
    "    height=400  # Set the height to your preference\n",
    ")\n",
    "force1_vt_fig.update_layout(\n",
    "    width=800,  # Set the width to your preference\n",
    "    height=400  # Set the height to your preference\n",
    ")\n",
    "\n",
    "force2_ap_fig.update_layout(\n",
    "    width=800,  # Set the width to your preference\n",
    "    height=400  # Set the height to your preference\n",
    ")\n",
    "force2_vt_fig.update_layout(\n",
    "    width=800,  # Set the width to your preference\n",
    "    height=400  # Set the height to your preference\n",
    ")\n"
   ]
  },
  {
   "cell_type": "code",
   "execution_count": 6,
   "metadata": {},
   "outputs": [],
   "source": [
    "for col in FP1_fig:\n",
    "    fig = FP1_fig[col]\n",
    "    fig.update_layout(\n",
    "        width=500,  # Desired width\n",
    "        height=400,  # Desired height\n",
    "        autosize=False  # Disable autosizing to enforce provided dimensions\n",
    "    )\n",
    "\n",
    "for col in FP2_fig:\n",
    "    fig = FP2_fig[col]\n",
    "    fig.update_layout(\n",
    "        width=500,  # Desired width\n",
    "        height=400,  # Desired height\n",
    "        autosize=False  # Disable autosizing to enforce provided dimensions\n",
    "    )\n",
    "    \n",
    "for col in mmt1_fig:\n",
    "    fig = mmt1_fig[col]\n",
    "    fig.update_layout(\n",
    "        width=500,  # Desired width\n",
    "        height=400,  # Desired height\n",
    "        autosize=False  # Disable autosizing to enforce provided dimensions\n",
    "    )\n",
    "    \n",
    "for col in mmt2_fig:\n",
    "    fig = mmt2_fig[col]\n",
    "    fig.update_layout(\n",
    "        width=500,  # Desired width\n",
    "        height=400,  # Desired height\n",
    "        autosize=False  # Disable autosizing to enforce provided dimensions\n",
    "    )"
   ]
  },
  {
   "cell_type": "code",
   "execution_count": 7,
   "metadata": {},
   "outputs": [
    {
     "data": {
      "text/plain": [
       "DeltaGenerator()"
      ]
     },
     "execution_count": 7,
     "metadata": {},
     "output_type": "execute_result"
    }
   ],
   "source": [
    "st.title('KUM GAIT REPORT')\n",
    "\n",
    "st.header('분석 구간')\n",
    "st.image('image/analysis.png', use_column_width=True)\n",
    "\n",
    "st.subheader('General Parameters')\n",
    "\n",
    "step_length = round(fp1_filtered['stride_length'][0],2)\n",
    "step_width = round(fp1_filtered['step_width'][0],2)\n",
    "\n",
    "col1, col2 = st.columns(2)\n",
    "col1.metric(\"step Length\", f\"{step_length} cm\", \"height\")\n",
    "col2.metric(\"Step Width\", f\"{step_width} cm\", \"height\")"
   ]
  },
  {
   "cell_type": "code",
   "execution_count": 8,
   "metadata": {},
   "outputs": [],
   "source": [
    "st.subheader('KINEMATICS PARAMETERS')\n",
    "\n",
    "tabs = st.tabs(FP1_ang_cols.values())\n",
    "\n",
    "for tab, col_1, col_2 in zip(tabs, FP1_ang_cols, FP2_ang_cols):\n",
    "    with tab:\n",
    "        col1, col2 = st.columns([1, 1])\n",
    "        with col1:\n",
    "            st.plotly_chart(FP1_fig[col_1], use_container_width=True)\n",
    "        with col2:\n",
    "            st.plotly_chart(FP2_fig[col_2], use_container_width=True)"
   ]
  },
  {
   "cell_type": "code",
   "execution_count": 9,
   "metadata": {},
   "outputs": [],
   "source": [
    "st.subheader('KINETICS PARAMETERS')\n",
    "\n",
    "# 탭 생성\n",
    "tab1, tab2 = st.tabs([\"GRF AP axis\", \"GRF Verticla\"])\n",
    "\n",
    "with tab1:\n",
    "    col1, col2 = st.columns([1, 1])  # 첫 번째 쌍의 차트를 위한 열 정의\n",
    "    with col1:\n",
    "        st.plotly_chart(force1_ap_fig, use_container_width=True)\n",
    "    with col2:\n",
    "        st.plotly_chart(force2_ap_fig, use_container_width=True)\n",
    "\n",
    "with tab2:\n",
    "    col1, col2 = st.columns([1, 1])  # 두 번째 쌍의 차트를 위한 열 정의\n",
    "    with col1:\n",
    "        st.plotly_chart(force1_vt_fig, use_container_width=True)\n",
    "    with col2:\n",
    "        st.plotly_chart(force2_vt_fig, use_container_width=True)"
   ]
  },
  {
   "cell_type": "code",
   "execution_count": 10,
   "metadata": {},
   "outputs": [],
   "source": [
    "st.subheader('MOMENTS')\n",
    "tabs = st.tabs(FP1_mmt_cols.values())\n",
    "\n",
    "for tab, col_1, col_2 in zip(tabs, FP1_mmt_cols, FP2_mmt_cols):\n",
    "    with tab:\n",
    "        col1, col2 = st.columns([1, 1])\n",
    "        with col1:\n",
    "            st.plotly_chart(mmt1_fig[col_1], use_container_width=True)\n",
    "        with col2:\n",
    "            st.plotly_chart(mmt2_fig[col_2], use_container_width=True)"
   ]
  },
  {
   "cell_type": "code",
   "execution_count": 12,
   "metadata": {},
   "outputs": [],
   "source": [
    "# streamlit run gait_report.py"
   ]
  },
  {
   "cell_type": "code",
   "execution_count": null,
   "metadata": {},
   "outputs": [],
   "source": []
  }
 ],
 "metadata": {
  "kernelspec": {
   "display_name": "base",
   "language": "python",
   "name": "python3"
  },
  "language_info": {
   "codemirror_mode": {
    "name": "ipython",
    "version": 3
   },
   "file_extension": ".py",
   "mimetype": "text/x-python",
   "name": "python",
   "nbconvert_exporter": "python",
   "pygments_lexer": "ipython3",
   "version": "3.11.8"
  }
 },
 "nbformat": 4,
 "nbformat_minor": 2
}
