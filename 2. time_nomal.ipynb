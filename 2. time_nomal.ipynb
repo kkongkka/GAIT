{
 "cells": [
  {
   "cell_type": "code",
   "execution_count": 28,
   "metadata": {},
   "outputs": [
    {
     "data": {
      "text/plain": [
       "['csv/1/kine/S02_001_R_81_176.csv']"
      ]
     },
     "execution_count": 28,
     "metadata": {},
     "output_type": "execute_result"
    }
   ],
   "source": [
    "import os\n",
    "import numpy as np\n",
    "import pandas as pd\n",
    "from glob import glob\n",
    "from tnorma import tnorma\n",
    "\n",
    "KINEMATIC_PATH = 'csv/1/kine/*csv'\n",
    "FORCE_PATH = 'csv/1/force/*csv'\n",
    "\n",
    "KINEMATIC_DIR = [i.replace('\\\\','/') for i in glob(KINEMATIC_PATH)]\n",
    "FORCE_DIR = [i.replace('\\\\','/') for i in glob(FORCE_PATH)]\n",
    "\n",
    "KINEMATIC_DIR"
   ]
  },
  {
   "cell_type": "code",
   "execution_count": 30,
   "metadata": {},
   "outputs": [],
   "source": [
    "for kine_dir, force_dir in zip(KINEMATIC_DIR, FORCE_DIR):\n",
    "    \n",
    "    file_name = os.path.splitext(os.path.basename(KINEMATIC_DIR[0]))\n",
    "    name = os.path.splitext(os.path.basename(KINEMATIC_DIR[0]))[0]\n",
    "    \n",
    "    k_df = pd.read_csv(kine_dir)\n",
    "    f_df = pd.read_csv(force_dir) \n",
    "    \n",
    "    # event 프레임 저장\n",
    "    k_Heel_contact_1  = k_df['k_Heel_contact_1'][0] \n",
    "    k_Toe_off_1       = k_df['k_Toe_off_1'][0]\n",
    "    k_Heel_contact_2  = k_df['k_Heel_contact_2'][0]\n",
    "    k_Toe_off_2       = k_df['k_Toe_off_2'][0]\n",
    "    \n",
    "    f_Heel_contact_1 = f_df['f_Heel_contact_1'][0] \n",
    "    f_Toe_off_1      = f_df['f_Toe_off_1'][0]\n",
    "    f_Heel_contact_2 = f_df['f_Heel_contact_2'][0]\n",
    "    f_Toe_off_2      = f_df['f_Toe_off_2'][0]\n",
    "    \n",
    "    k1_phase = k_df[k_Heel_contact_1:k_Toe_off_1]\n",
    "    f1_phase = f_df[f_Heel_contact_1:f_Toe_off_1]\n",
    "    \n",
    "    k2_phase = k_df[k_Heel_contact_2:k_Toe_off_2]\n",
    "    f2_phase = f_df[f_Heel_contact_2:f_Toe_off_2]\n",
    "    \n",
    "    k_columns = k1_phase.columns\n",
    "    f_columns = f1_phase.columns\n",
    "    \n",
    "    # time-normalization\n",
    "    ka1,kb1,kc1 = tnorma(k1_phase)\n",
    "    fa1,fb1,fc1 = tnorma(f1_phase)\n",
    "\n",
    "    ka2,kb2,kc2 = tnorma(k2_phase)\n",
    "    fa2,fb2,fc2 = tnorma(f2_phase)\n",
    "    \n",
    "    # 시간 정규화 데이터 데이터프레임화\n",
    "    k1_total = pd.DataFrame(ka1, columns=k_columns)\n",
    "    f1_total = pd.DataFrame(fa1, columns=f_columns)\n",
    "    \n",
    "    k2_total = pd.DataFrame(ka2, columns=k_columns)\n",
    "    f2_total = pd.DataFrame(fa2, columns=f_columns)\n",
    "    \n",
    "    FP1 = pd.concat([k1_total, f1_total], axis=1)\n",
    "    FP2 = pd.concat([k2_total, f2_total], axis=1)\n",
    "    \n",
    "FP1.to_csv(f'csv/2/FP1/{name}_FP1.csv', index=False)    \n",
    "FP2.to_csv(f'csv/2/FP2/{name}_FP2.csv', index=False)"
   ]
  }
 ],
 "metadata": {
  "kernelspec": {
   "display_name": "base",
   "language": "python",
   "name": "python3"
  },
  "language_info": {
   "codemirror_mode": {
    "name": "ipython",
    "version": 3
   },
   "file_extension": ".py",
   "mimetype": "text/x-python",
   "name": "python",
   "nbconvert_exporter": "python",
   "pygments_lexer": "ipython3",
   "version": "3.11.8"
  }
 },
 "nbformat": 4,
 "nbformat_minor": 2
}
