{
 "cells": [
  {
   "cell_type": "code",
   "execution_count": 2,
   "metadata": {},
   "outputs": [],
   "source": [
    "import os\n",
    "import numpy as np\n",
    "import pandas as pd\n",
    "import scipy.signal as signal\n",
    "import matplotlib.pyplot as plt\n",
    "%matplotlib inline\n",
    "from detecta import detect_peaks, detect_onset\n",
    "from glob import glob\n",
    "from tqdm import tqdm\n",
    "import warnings\n",
    "warnings.filterwarnings('ignore')"
   ]
  },
  {
   "cell_type": "code",
   "execution_count": 3,
   "metadata": {},
   "outputs": [],
   "source": [
    "kinematic_list = [i.replace('\\\\','/') for i in sorted(glob(f\"c3d/**/*c3d\"))]\n",
    "\n",
    "kinematic_name = [os.path.basename(i).split('.')[0] for i in kinematic_list]"
   ]
  },
  {
   "cell_type": "code",
   "execution_count": 4,
   "metadata": {},
   "outputs": [
    {
     "data": {
      "text/html": [
       "<div>\n",
       "<style scoped>\n",
       "    .dataframe tbody tr th:only-of-type {\n",
       "        vertical-align: middle;\n",
       "    }\n",
       "\n",
       "    .dataframe tbody tr th {\n",
       "        vertical-align: top;\n",
       "    }\n",
       "\n",
       "    .dataframe thead th {\n",
       "        text-align: right;\n",
       "    }\n",
       "</style>\n",
       "<table border=\"1\" class=\"dataframe\">\n",
       "  <thead>\n",
       "    <tr style=\"text-align: right;\">\n",
       "      <th></th>\n",
       "      <th>weight</th>\n",
       "      <th>height</th>\n",
       "    </tr>\n",
       "    <tr>\n",
       "      <th>trial</th>\n",
       "      <th></th>\n",
       "      <th></th>\n",
       "    </tr>\n",
       "  </thead>\n",
       "  <tbody>\n",
       "    <tr>\n",
       "      <th>S02_001</th>\n",
       "      <td>81</td>\n",
       "      <td>176</td>\n",
       "    </tr>\n",
       "    <tr>\n",
       "      <th>S02_002</th>\n",
       "      <td>81</td>\n",
       "      <td>176</td>\n",
       "    </tr>\n",
       "    <tr>\n",
       "      <th>S02_003</th>\n",
       "      <td>81</td>\n",
       "      <td>176</td>\n",
       "    </tr>\n",
       "    <tr>\n",
       "      <th>S02_004</th>\n",
       "      <td>81</td>\n",
       "      <td>176</td>\n",
       "    </tr>\n",
       "    <tr>\n",
       "      <th>S02_005</th>\n",
       "      <td>81</td>\n",
       "      <td>176</td>\n",
       "    </tr>\n",
       "  </tbody>\n",
       "</table>\n",
       "</div>"
      ],
      "text/plain": [
       "         weight  height\n",
       "trial                  \n",
       "S02_001      81     176\n",
       "S02_002      81     176\n",
       "S02_003      81     176\n",
       "S02_004      81     176\n",
       "S02_005      81     176"
      ]
     },
     "execution_count": 4,
     "metadata": {},
     "output_type": "execute_result"
    }
   ],
   "source": [
    "players = pd.read_excel(f'txt/player_information.xlsx',index_col = 'trial')\n",
    "players"
   ]
  },
  {
   "cell_type": "code",
   "execution_count": 5,
   "metadata": {},
   "outputs": [
    {
     "ename": "KeyError",
     "evalue": "'S02_001_R_81_176'",
     "output_type": "error",
     "traceback": [
      "\u001b[1;31m---------------------------------------------------------------------------\u001b[0m",
      "\u001b[1;31mKeyError\u001b[0m                                  Traceback (most recent call last)",
      "File \u001b[1;32mc:\\Users\\user\\anaconda3\\Lib\\site-packages\\pandas\\core\\indexes\\base.py:3802\u001b[0m, in \u001b[0;36mIndex.get_loc\u001b[1;34m(self, key)\u001b[0m\n\u001b[0;32m   3801\u001b[0m \u001b[38;5;28;01mtry\u001b[39;00m:\n\u001b[1;32m-> 3802\u001b[0m     \u001b[38;5;28;01mreturn\u001b[39;00m \u001b[38;5;28mself\u001b[39m\u001b[38;5;241m.\u001b[39m_engine\u001b[38;5;241m.\u001b[39mget_loc(casted_key)\n\u001b[0;32m   3803\u001b[0m \u001b[38;5;28;01mexcept\u001b[39;00m \u001b[38;5;167;01mKeyError\u001b[39;00m \u001b[38;5;28;01mas\u001b[39;00m err:\n",
      "File \u001b[1;32mindex.pyx:153\u001b[0m, in \u001b[0;36mpandas._libs.index.IndexEngine.get_loc\u001b[1;34m()\u001b[0m\n",
      "File \u001b[1;32mindex.pyx:182\u001b[0m, in \u001b[0;36mpandas._libs.index.IndexEngine.get_loc\u001b[1;34m()\u001b[0m\n",
      "File \u001b[1;32mpandas\\\\_libs\\\\hashtable_class_helper.pxi:7081\u001b[0m, in \u001b[0;36mpandas._libs.hashtable.PyObjectHashTable.get_item\u001b[1;34m()\u001b[0m\n",
      "File \u001b[1;32mpandas\\\\_libs\\\\hashtable_class_helper.pxi:7089\u001b[0m, in \u001b[0;36mpandas._libs.hashtable.PyObjectHashTable.get_item\u001b[1;34m()\u001b[0m\n",
      "\u001b[1;31mKeyError\u001b[0m: 'S02_001_R_81_176'",
      "\nThe above exception was the direct cause of the following exception:\n",
      "\u001b[1;31mKeyError\u001b[0m                                  Traceback (most recent call last)",
      "Cell \u001b[1;32mIn[5], line 9\u001b[0m\n\u001b[0;32m      6\u001b[0m \u001b[38;5;28;01melif\u001b[39;00m \u001b[38;5;124m'\u001b[39m\u001b[38;5;124mleft\u001b[39m\u001b[38;5;124m'\u001b[39m \u001b[38;5;129;01min\u001b[39;00m i:\n\u001b[0;32m      7\u001b[0m     side \u001b[38;5;241m=\u001b[39m \u001b[38;5;124m'\u001b[39m\u001b[38;5;124mL\u001b[39m\u001b[38;5;124m'\u001b[39m\n\u001b[1;32m----> 9\u001b[0m weight \u001b[38;5;241m=\u001b[39m \u001b[38;5;28mstr\u001b[39m(players\u001b[38;5;241m.\u001b[39mloc[name][\u001b[38;5;124m'\u001b[39m\u001b[38;5;124mweight\u001b[39m\u001b[38;5;124m'\u001b[39m])\n\u001b[0;32m     10\u001b[0m height \u001b[38;5;241m=\u001b[39m \u001b[38;5;28mstr\u001b[39m(players\u001b[38;5;241m.\u001b[39mloc[name][\u001b[38;5;124m'\u001b[39m\u001b[38;5;124mheight\u001b[39m\u001b[38;5;124m'\u001b[39m])\n\u001b[0;32m     12\u001b[0m new_name \u001b[38;5;241m=\u001b[39m \u001b[38;5;124mf\u001b[39m\u001b[38;5;124m\"\u001b[39m\u001b[38;5;132;01m{\u001b[39;00mname\u001b[38;5;132;01m}\u001b[39;00m\u001b[38;5;124m_\u001b[39m\u001b[38;5;132;01m{\u001b[39;00mside\u001b[38;5;132;01m}\u001b[39;00m\u001b[38;5;124m_\u001b[39m\u001b[38;5;132;01m{\u001b[39;00mweight\u001b[38;5;132;01m}\u001b[39;00m\u001b[38;5;124m_\u001b[39m\u001b[38;5;132;01m{\u001b[39;00mheight\u001b[38;5;132;01m}\u001b[39;00m\u001b[38;5;124m\"\u001b[39m\n",
      "File \u001b[1;32mc:\\Users\\user\\anaconda3\\Lib\\site-packages\\pandas\\core\\indexing.py:1192\u001b[0m, in \u001b[0;36m_LocationIndexer.__getitem__\u001b[1;34m(self, key)\u001b[0m\n\u001b[0;32m   1190\u001b[0m maybe_callable \u001b[38;5;241m=\u001b[39m com\u001b[38;5;241m.\u001b[39mapply_if_callable(key, \u001b[38;5;28mself\u001b[39m\u001b[38;5;241m.\u001b[39mobj)\n\u001b[0;32m   1191\u001b[0m maybe_callable \u001b[38;5;241m=\u001b[39m \u001b[38;5;28mself\u001b[39m\u001b[38;5;241m.\u001b[39m_check_deprecated_callable_usage(key, maybe_callable)\n\u001b[1;32m-> 1192\u001b[0m \u001b[38;5;28;01mreturn\u001b[39;00m \u001b[38;5;28mself\u001b[39m\u001b[38;5;241m.\u001b[39m_getitem_axis(maybe_callable, axis\u001b[38;5;241m=\u001b[39maxis)\n",
      "File \u001b[1;32mc:\\Users\\user\\anaconda3\\Lib\\site-packages\\pandas\\core\\indexing.py:1432\u001b[0m, in \u001b[0;36m_LocIndexer._getitem_axis\u001b[1;34m(self, key, axis)\u001b[0m\n\u001b[0;32m   1430\u001b[0m \u001b[38;5;66;03m# fall thru to straight lookup\u001b[39;00m\n\u001b[0;32m   1431\u001b[0m \u001b[38;5;28mself\u001b[39m\u001b[38;5;241m.\u001b[39m_validate_key(key, axis)\n\u001b[1;32m-> 1432\u001b[0m \u001b[38;5;28;01mreturn\u001b[39;00m \u001b[38;5;28mself\u001b[39m\u001b[38;5;241m.\u001b[39m_get_label(key, axis\u001b[38;5;241m=\u001b[39maxis)\n",
      "File \u001b[1;32mc:\\Users\\user\\anaconda3\\Lib\\site-packages\\pandas\\core\\indexing.py:1382\u001b[0m, in \u001b[0;36m_LocIndexer._get_label\u001b[1;34m(self, label, axis)\u001b[0m\n\u001b[0;32m   1380\u001b[0m \u001b[38;5;28;01mdef\u001b[39;00m \u001b[38;5;21m_get_label\u001b[39m(\u001b[38;5;28mself\u001b[39m, label, axis: AxisInt):\n\u001b[0;32m   1381\u001b[0m     \u001b[38;5;66;03m# GH#5567 this will fail if the label is not present in the axis.\u001b[39;00m\n\u001b[1;32m-> 1382\u001b[0m     \u001b[38;5;28;01mreturn\u001b[39;00m \u001b[38;5;28mself\u001b[39m\u001b[38;5;241m.\u001b[39mobj\u001b[38;5;241m.\u001b[39mxs(label, axis\u001b[38;5;241m=\u001b[39maxis)\n",
      "File \u001b[1;32mc:\\Users\\user\\anaconda3\\Lib\\site-packages\\pandas\\core\\generic.py:4295\u001b[0m, in \u001b[0;36mNDFrame.xs\u001b[1;34m(self, key, axis, level, drop_level)\u001b[0m\n\u001b[0;32m   4293\u001b[0m             new_index \u001b[38;5;241m=\u001b[39m index[loc]\n\u001b[0;32m   4294\u001b[0m \u001b[38;5;28;01melse\u001b[39;00m:\n\u001b[1;32m-> 4295\u001b[0m     loc \u001b[38;5;241m=\u001b[39m index\u001b[38;5;241m.\u001b[39mget_loc(key)\n\u001b[0;32m   4297\u001b[0m     \u001b[38;5;28;01mif\u001b[39;00m \u001b[38;5;28misinstance\u001b[39m(loc, np\u001b[38;5;241m.\u001b[39mndarray):\n\u001b[0;32m   4298\u001b[0m         \u001b[38;5;28;01mif\u001b[39;00m loc\u001b[38;5;241m.\u001b[39mdtype \u001b[38;5;241m==\u001b[39m np\u001b[38;5;241m.\u001b[39mbool_:\n",
      "File \u001b[1;32mc:\\Users\\user\\anaconda3\\Lib\\site-packages\\pandas\\core\\indexes\\base.py:3809\u001b[0m, in \u001b[0;36mIndex.get_loc\u001b[1;34m(self, key)\u001b[0m\n\u001b[0;32m   3804\u001b[0m     \u001b[38;5;28;01mif\u001b[39;00m \u001b[38;5;28misinstance\u001b[39m(casted_key, \u001b[38;5;28mslice\u001b[39m) \u001b[38;5;129;01mor\u001b[39;00m (\n\u001b[0;32m   3805\u001b[0m         \u001b[38;5;28misinstance\u001b[39m(casted_key, abc\u001b[38;5;241m.\u001b[39mIterable)\n\u001b[0;32m   3806\u001b[0m         \u001b[38;5;129;01mand\u001b[39;00m \u001b[38;5;28many\u001b[39m(\u001b[38;5;28misinstance\u001b[39m(x, \u001b[38;5;28mslice\u001b[39m) \u001b[38;5;28;01mfor\u001b[39;00m x \u001b[38;5;129;01min\u001b[39;00m casted_key)\n\u001b[0;32m   3807\u001b[0m     ):\n\u001b[0;32m   3808\u001b[0m         \u001b[38;5;28;01mraise\u001b[39;00m InvalidIndexError(key)\n\u001b[1;32m-> 3809\u001b[0m     \u001b[38;5;28;01mraise\u001b[39;00m \u001b[38;5;167;01mKeyError\u001b[39;00m(key) \u001b[38;5;28;01mfrom\u001b[39;00m \u001b[38;5;21;01merr\u001b[39;00m\n\u001b[0;32m   3810\u001b[0m \u001b[38;5;28;01mexcept\u001b[39;00m \u001b[38;5;167;01mTypeError\u001b[39;00m:\n\u001b[0;32m   3811\u001b[0m     \u001b[38;5;66;03m# If we have a listlike key, _check_indexing_error will raise\u001b[39;00m\n\u001b[0;32m   3812\u001b[0m     \u001b[38;5;66;03m#  InvalidIndexError. Otherwise we fall through and re-raise\u001b[39;00m\n\u001b[0;32m   3813\u001b[0m     \u001b[38;5;66;03m#  the TypeError.\u001b[39;00m\n\u001b[0;32m   3814\u001b[0m     \u001b[38;5;28mself\u001b[39m\u001b[38;5;241m.\u001b[39m_check_indexing_error(key)\n",
      "\u001b[1;31mKeyError\u001b[0m: 'S02_001_R_81_176'"
     ]
    }
   ],
   "source": [
    "kinematic_names = {}\n",
    "\n",
    "for i, name in zip(kinematic_list, kinematic_name):\n",
    "    if 'right' in i:\n",
    "        side = 'R'\n",
    "    elif 'left' in i:\n",
    "        side = 'L'\n",
    "\n",
    "    weight = str(players.loc[name]['weight'])\n",
    "    height = str(players.loc[name]['height'])\n",
    "\n",
    "    new_name = f\"{name}_{side}_{weight}_{height}\"\n",
    "    kinematic_names[i] = new_name\n",
    "\n",
    "    new_file_path = os.path.join(os.path.dirname(i), new_name + '.c3d')\n",
    "    os.rename(i, new_file_path)\n",
    "\n",
    "    print(i)"
   ]
  },
  {
   "cell_type": "markdown",
   "metadata": {},
   "source": [
    "-------------"
   ]
  },
  {
   "cell_type": "markdown",
   "metadata": {},
   "source": [
    "# Visual 3d 파이프라인 작업"
   ]
  },
  {
   "cell_type": "markdown",
   "metadata": {},
   "source": [
    "-------------------"
   ]
  },
  {
   "cell_type": "code",
   "execution_count": 7,
   "metadata": {},
   "outputs": [],
   "source": [
    "# 필터 적용 함수\n",
    "def lowpass_filter(data, sr, cut_off, order):\n",
    "    nyq = 0.5 * sr\n",
    "    b, a = signal.butter(order, cut_off/nyq, btype = 'low')\n",
    "    lp_df = signal.filtfilt(b, a, data)\n",
    "    return lp_df\n",
    "\n",
    "# 각속도 계산 함수 (sr: 샘플링 속도)\n",
    "def ang_vel_made(data, sr):\n",
    "    x = np.diff(data) / (1 / sr)\n",
    "    x = pd.Series(x, index = np.arange(1,len(data)))\n",
    "    return x    "
   ]
  },
  {
   "cell_type": "code",
   "execution_count": 8,
   "metadata": {},
   "outputs": [
    {
     "data": {
      "text/plain": [
       "['S02_001_R_81_176',\n",
       " 'S02_002_R_81_176',\n",
       " 'S02_003_R_81_176',\n",
       " 'S02_004_R_81_176',\n",
       " 'S02_005_R_81_176']"
      ]
     },
     "execution_count": 8,
     "metadata": {},
     "output_type": "execute_result"
    }
   ],
   "source": [
    "file_list = [i.replace('\\\\','/') for i in sorted(glob(f\"txt/**/*txt\"))]\n",
    "file_name = []\n",
    "for i in file_list:\n",
    "    file, _, _ = os.path.basename(i).split('.')\n",
    "    file_name.append(file)\n",
    "    \n",
    "file_name"
   ]
  },
  {
   "cell_type": "code",
   "execution_count": 9,
   "metadata": {},
   "outputs": [
    {
     "name": "stdout",
     "output_type": "stream",
     "text": [
      "S02_001_R_81_176 에서 시점 찾기 오류 발생\n",
      "S02_002_R_81_176 에서 시점 찾기 오류 발생\n",
      "S02_003_R_81_176 에서 시점 찾기 오류 발생\n",
      "S02_004_R_81_176 에서 시점 찾기 오류 발생\n",
      "S02_005_R_81_176 에서 시점 찾기 오류 발생\n"
     ]
    }
   ],
   "source": [
    "dataset = {\n",
    "    'force' : {},\n",
    "    'kine'  : {}\n",
    "    }\n",
    "\n",
    "wrong = {     # 시점 컨택 안된 데이터 모으기\n",
    "    'force' : {},\n",
    "    'kine'  : {}\n",
    "    } \n",
    "\n",
    "non_force = {}\n",
    "\n",
    "for file, name in zip(file_list, file_name):\n",
    "    df = pd.read_csv(file, sep='\\t', encoding='cp949', header=[1,2,3,4])\n",
    "    df.drop('Unnamed: 0_level_0', axis=1, inplace=True)\n",
    "    df.drop('LAR_ROTMAT', axis=1, inplace=True)\n",
    "    kinematic_len = len(df['FRAMES'].dropna())\n",
    "    kinetic_len = kinematic_len * 16  # force를 kinematic의 몇 배로 설정했는지\n",
    "\n",
    "    cols = []\n",
    "    for col in df.columns:\n",
    "        if col[0] not in ['FP1','FP2']:  # force 데이터 제외한 kinematic 데이터의 column만 저장\n",
    "            cols.append(col)\n",
    "\n",
    "    kine = df[cols].iloc[:kinematic_len, :]\n",
    "    force = df[['FP1','FP2']].iloc[:kinetic_len,:]\n",
    "\n",
    "    kg = float(name.split('_')[3])  # 몸무게 추출\n",
    "    height = float(name.split('_')[4])  # 키 추출\n",
    "\n",
    "    for_cols = []\n",
    "    for col in force.columns:\n",
    "        side, data, _, axis = col\n",
    "        if side == 'FP1':\n",
    "            side = 'First'\n",
    "        else:\n",
    "            side = 'Second'\n",
    "\n",
    "        for_cols.append(f\"{side}_{data}_{axis}\")\n",
    "        \n",
    "    force.columns = for_cols\n",
    "\n",
    "    # non_force[name] = force\n",
    "    for col in for_cols:\n",
    "        if ('FORCE' in col) | ('FREEMOMENT' in col):                            # cop는 필터링 안하는지?\n",
    "            force[col] = lowpass_filter(force[col], 1080, 40, 4)  # 1080Hz / cutoff 40 / 4차 수정필요!!!!!!!!!!!\n",
    "            force[col] = 100 * (force[col] / 9.81) / kg\n",
    "\n",
    "    kine_cols = []\n",
    "    for col in kine.columns:\n",
    "        data, _, ro, axis = col\n",
    "        if data in ['FRAMES','TIME']:\n",
    "            kine_cols.append(data)\n",
    "        elif data in ['ProxEndPos']:\n",
    "            kine_cols.append(f\"{ro}_{axis}\")\n",
    "        elif data in ['AngVel']:\n",
    "            kine_cols.append(f\"{data}_{ro}_{axis}\")\n",
    "        else:\n",
    "            kine_cols.append(f\"{data}_{axis}\")\n",
    "\n",
    "    kine.columns = kine_cols\n",
    "\n",
    "    ang_cols = []\n",
    "    vel_cols = []\n",
    "    for col in kine_cols:\n",
    "        if 'ANGLE' in col:\n",
    "            ang_cols.append(col)\n",
    "        if 'ANGULAR' or 'AngVel' in col:\n",
    "            vel_cols.append(col)\n",
    "\n",
    "    for col in ang_cols:\n",
    "        up = np.where((np.diff(kine[col]) > 300))[0].tolist()\n",
    "        down = np.where((np.diff(kine[col]) < -300))[0].tolist()\n",
    "        all = sorted([*up, *down])\n",
    "        all_len = len(all)\n",
    "\n",
    "        if (len(up) == 0) & (len(down) == 0):\n",
    "            pass\n",
    "        \n",
    "        elif (len(up) == 1) & (len(down) == 0):\n",
    "            kine[col].iloc[all[0]+1:] = kine[col].iloc[all[0]+1:] - 360\n",
    "\n",
    "        elif (len(up) == 0) & (len(down) == 1):\n",
    "            kine[col].iloc[all[0]+1:] = kine[col].iloc[all[0]+1:] + 360\n",
    "\n",
    "        elif (len(up) >= 1) & (len(down) >= 1):\n",
    "            if up[0] < down[0]:\n",
    "                if all_len % 2 == 0:\n",
    "                    for i in range(0,all_len,2):\n",
    "                        kine[col].iloc[all[i]+1:all[i+1]+1] = kine[col].iloc[all[i]+1:all[i+1]+1] - 360\n",
    "                elif all_len % 2 == 1:\n",
    "                    for i in range(0,all_len - 1, 2):\n",
    "                        kine[col].iloc[all[i]+1:all[i+1]+1] = kine[col].iloc[all[i]+1:all[i+1]+1] - 360\n",
    "                    kine[col].iloc[all[-1]+1:] = kine[col].iloc[all[-1]+1:] - 360                                               \n",
    "            elif up[0] > down[0]:\n",
    "                if all_len % 2 == 0:\n",
    "                    for i in range(0,all_len,2):\n",
    "                        kine[col].iloc[all[i]+1:all[i+1]+1] = kine[col].iloc[all[i]+1:all[i+1]+1] + 360\n",
    "                elif all_len % 2 == 1:\n",
    "                    for i in range(0,all_len - 1, 2):\n",
    "                        kine[col].iloc[all[i]+1:all[i+1]+1] = kine[col].iloc[all[i]+1:all[i+1]+1] + 360\n",
    "                    kine[col].iloc[all[-1]+1:] = kine[col].iloc[all[-1]+1:] + 360\n",
    "\n",
    "    # 각도로 \"각속도\" 계산\n",
    "    kine['PELVIS_ANGLUAR_VELOCITY_X'] = ang_vel_made(kine['PELVIS_ANGLE_X'], 180)  # 샘플링레이트 바꾸면 180 바꿔줘야 함!!!!!!!!!!!\n",
    "    kine['PELVIS_ANGLUAR_VELOCITY_Y'] = ang_vel_made(kine['PELVIS_ANGLE_Y'], 180)\n",
    "    kine['PELVIS_ANGLUAR_VELOCITY_Z'] = ang_vel_made(kine['PELVIS_ANGLE_Z'], 180)\n",
    "    kine['TORSO_ANGLUAR_VELOCITY_X'] = ang_vel_made(kine['TORSO_ANGLE_X'], 180)\n",
    "    kine['TORSO_ANGLUAR_VELOCITY_Y'] = ang_vel_made(kine['TORSO_ANGLE_Y'], 180)\n",
    "    kine['TORSO_ANGLUAR_VELOCITY_Z'] = ang_vel_made(kine['TORSO_ANGLE_Z'], 180)\n",
    "\n",
    "    kine = kine.fillna(0)  # 결측치를 0으로 대체\n",
    "\n",
    "    for col in kine.columns:\n",
    "        if col not in ['FRAMES','TIME']:\n",
    "            kine[col] = lowpass_filter(kine[col],180,13.4,4)  # 1080Hz / cutoff 13.4 / 4차 수정필요!!!!!!!!!!!\n",
    "    \n",
    "    '''\n",
    "    for col in ang_cols:    \n",
    "        if pit_type == 'L':\n",
    "            split_col = col.split('_')\n",
    "            if split_col[-1] in ['Y', 'Z']:\n",
    "                kine[col] = - kine[col]\n",
    "    \n",
    "    for col in vel_cols:    \n",
    "        if pit_type == 'L':\n",
    "            split_col = col.split('_')\n",
    "            if split_col[-1] in ['Y', 'Z']:\n",
    "                kine[col] = - kine[col]\n",
    "    '''\n",
    "    session = f\"{name.split('_')[0]}_{name.split('_')[1]}\"\n",
    "\n",
    "    sr = 180\n",
    "    plot = False\n",
    "\n",
    "    try:\n",
    "        # print(f\"===================={name}=======================\")\n",
    "\n",
    "        # visual3d \n",
    "        HS1 = detect_onset(kine['AngVel_LSK_X'], threshold=0, n_above=10, n_below=10, show=plot)[0][1]\n",
    "        TO1 = detect_peaks(kine['AngVel_LSK_X'], mph=-2, mpd=50, valley=True, show=plot)[0]\n",
    "        HS2 = detect_onset(kine['AngVel_LSK_X'], threshold=0, n_above=10, n_below=10, show=plot)[1][0]\n",
    "\n",
    "        HS11 = detect_onset(kine['First_FORCE_Z'], threshold=1, n_above=10, n_below=10, show=plot)\n",
    "        \n",
    "        if HS1 > TO1:\n",
    "            print(f'{name} : HS1가 TO1 보다 큼')\n",
    "        if TO1 > HS2:\n",
    "            print(f'{name} : TO1가 HS2보다 큼')\n",
    "\n",
    "        kine['Heel_Strike1'] = HS1\n",
    "        kine['Toe_Off1'] = TO1\n",
    "        kine['Heel_Strike2'] = HS2\n",
    "\n",
    "        force['Heel_Strike1'] = HS1 * 16  # force가 16배 이므로 바꿔야함\n",
    "        force['Toe_Off1'] = TO1 * 16\n",
    "        force['Heel_Strike2'] = HS2 * 16\n",
    "\n",
    "        force.insert(0, 'FRAMES', range(1, len(force) + 1))\n",
    "\n",
    "        '''\n",
    "        First_lead_peak = detect_peaks(force['First_FORCE_Z'], mph=100, mpd=50, show=plot)\n",
    "        force['First_peak_z'] = First_lead_peak[0]\n",
    "        Second_lead_peak = detect_peaks(force['Second_FORCE_Z'], mph=100, mpd=50, show=plot)\n",
    "        force['Second_peak_z'] = Second_lead_peak[0]\n",
    "        '''\n",
    "        \n",
    "        dataset['force'][name] = force\n",
    "        dataset['kine'][name] = kine\n",
    "\n",
    "    except Exception:\n",
    "        print(f\"{name} 에서 시점 찾기 오류 발생\")\n",
    "        wrong['kine'][name] = kine\n",
    "        wrong['force'][name] = force"
   ]
  },
  {
   "cell_type": "code",
   "execution_count": 60,
   "metadata": {},
   "outputs": [
    {
     "data": {
      "text/plain": [
       "array([[ 48,  69],\n",
       "       [122, 142],\n",
       "       [192, 212],\n",
       "       [266, 300]], dtype=int64)"
      ]
     },
     "execution_count": 60,
     "metadata": {},
     "output_type": "execute_result"
    }
   ],
   "source": [
    "a = detect_onset(kine['AngVel_LSK_X'], threshold=0, n_above=10, n_below=10, show=plot)\n",
    "a"
   ]
  },
  {
   "cell_type": "code",
   "execution_count": 18,
   "metadata": {},
   "outputs": [],
   "source": [
    "for name in dataset['kine']:\n",
    "    kine = dataset['kine'][name]\n",
    "    force = dataset['force'][name]\n",
    "    kine.to_csv(f\"csv/kine/{name}.csv\", index=False)\n",
    "    force.to_csv(f\"csv/force/{name}.csv\", index=False)"
   ]
  },
  {
   "cell_type": "code",
   "execution_count": 10,
   "metadata": {},
   "outputs": [
    {
     "ename": "NameError",
     "evalue": "name 'HS11' is not defined",
     "output_type": "error",
     "traceback": [
      "\u001b[1;31m---------------------------------------------------------------------------\u001b[0m",
      "\u001b[1;31mNameError\u001b[0m                                 Traceback (most recent call last)",
      "Cell \u001b[1;32mIn[10], line 1\u001b[0m\n\u001b[1;32m----> 1\u001b[0m HS11\n",
      "\u001b[1;31mNameError\u001b[0m: name 'HS11' is not defined"
     ]
    }
   ],
   "source": [
    "HS11"
   ]
  },
  {
   "cell_type": "code",
   "execution_count": 13,
   "metadata": {},
   "outputs": [
    {
     "data": {
      "image/png": "[encoded data removed]",
      "text/plain": [
       "<Figure size 800x400 with 1 Axes>"
      ]
     },
     "metadata": {},
     "output_type": "display_data"
    },
    {
     "ename": "TypeError",
     "evalue": "only size-1 arrays can be converted to Python scalars",
     "output_type": "error",
     "traceback": [
      "\u001b[1;31m---------------------------------------------------------------------------\u001b[0m",
      "\u001b[1;31mTypeError\u001b[0m                                 Traceback (most recent call last)",
      "Cell \u001b[1;32mIn[13], line 1\u001b[0m\n\u001b[1;32m----> 1\u001b[0m \u001b[38;5;28mint\u001b[39m(detect_onset(force[\u001b[38;5;124m'\u001b[39m\u001b[38;5;124mFirst_FORCE_Z\u001b[39m\u001b[38;5;124m'\u001b[39m], threshold\u001b[38;5;241m=\u001b[39m\u001b[38;5;241m1\u001b[39m, n_above\u001b[38;5;241m=\u001b[39m\u001b[38;5;241m10\u001b[39m, n_below\u001b[38;5;241m=\u001b[39m\u001b[38;5;241m10\u001b[39m, show\u001b[38;5;241m=\u001b[39m\u001b[38;5;28;01mTrue\u001b[39;00m)\u001b[38;5;241m/\u001b[39m\u001b[38;5;241m16\u001b[39m)\n",
      "\u001b[1;31mTypeError\u001b[0m: only size-1 arrays can be converted to Python scalars"
     ]
    }
   ],
   "source": [
    "int(detect_onset(force['First_FORCE_Z'], threshold=1, n_above=10, n_below=10, show=True)/16)"
   ]
  },
  {
   "cell_type": "code",
   "execution_count": null,
   "metadata": {},
   "outputs": [],
   "source": []
  }
 ],
 "metadata": {
  "kernelspec": {
   "display_name": "base",
   "language": "python",
   "name": "python3"
  },
  "language_info": {
   "codemirror_mode": {
    "name": "ipython",
    "version": 3
   },
   "file_extension": ".py",
   "mimetype": "text/x-python",
   "name": "python",
   "nbconvert_exporter": "python",
   "pygments_lexer": "ipython3",
   "version": "3.11.5"
  }
 },
 "nbformat": 4,
 "nbformat_minor": 2
}
